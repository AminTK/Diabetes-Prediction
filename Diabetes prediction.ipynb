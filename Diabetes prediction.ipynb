{
 "cells": [
  {
   "cell_type": "markdown",
   "metadata": {},
   "source": [
    "> #  Import necessary libraries"
   ]
  },
  {
   "cell_type": "code",
   "execution_count": null,
   "metadata": {},
   "outputs": [],
   "source": [
    "import pandas as pd\n",
    "import numpy as np                 \n",
    "import matplotlib.pyplot as plt\n",
    "import seaborn as sns \n",
    "import missingno as msno\n",
    "import plotly.graph_objects as go\n",
    "from plotly.subplots import make_subplots\n",
    "from sklearn.preprocessing import LabelEncoder\n",
    "from sklearn.metrics import classification_report, confusion_matrix, accuracy_score\n",
    "from sklearn.preprocessing import StandardScaler, MinMaxScaler\n",
    "from sklearn.model_selection import train_test_split"
   ]
  },
  {
   "cell_type": "markdown",
   "metadata": {},
   "source": [
    ">  # 1. Load Dataset"
   ]
  },
  {
   "cell_type": "code",
   "execution_count": null,
   "metadata": {},
   "outputs": [],
   "source": [
    "Data = pd.read_csv(\"Diabetes prediction.csv\")"
   ]
  },
  {
   "cell_type": "markdown",
   "metadata": {},
   "source": [
    "> # 2.  information about dataset"
   ]
  },
  {
   "cell_type": "markdown",
   "metadata": {},
   "source": [
    "> ###    2-1 Columns headings"
   ]
  },
  {
   "cell_type": "code",
   "execution_count": null,
   "metadata": {},
   "outputs": [],
   "source": [
    "Data.columns"
   ]
  },
  {
   "cell_type": "markdown",
   "metadata": {},
   "source": [
    "> ### 2-2 Total information about dataset"
   ]
  },
  {
   "cell_type": "code",
   "execution_count": null,
   "metadata": {},
   "outputs": [],
   "source": [
    "Data.info()"
   ]
  },
  {
   "cell_type": "markdown",
   "metadata": {},
   "source": [
    "> ### 2-2-1. Details of dataset (transpose)"
   ]
  },
  {
   "cell_type": "code",
   "execution_count": null,
   "metadata": {},
   "outputs": [],
   "source": [
    "Data.describe().T"
   ]
  },
  {
   "cell_type": "markdown",
   "metadata": {},
   "source": [
    "> ### 2-2-2. Histogram of dataset"
   ]
  },
  {
   "cell_type": "code",
   "execution_count": null,
   "metadata": {},
   "outputs": [],
   "source": [
    "Data.hist(bins = 30, figsize = (15, 15), edgecolor = \"white\")\n",
    "plt.grid(axis = \"x\", alpha = 0.8)\n",
    "plt.suptitle(\"Histogram of Data\", fontsize = 20)\n",
    "plt.tight_layout()\n",
    "plt.show()"
   ]
  },
  {
   "cell_type": "markdown",
   "metadata": {},
   "source": [
    "> ### 2-3. Checking null valuses"
   ]
  },
  {
   "cell_type": "code",
   "execution_count": null,
   "metadata": {},
   "outputs": [],
   "source": [
    "Data.isnull()"
   ]
  },
  {
   "cell_type": "markdown",
   "metadata": {},
   "source": [
    "> ### 2-3-1. Count of nulls in each columns"
   ]
  },
  {
   "cell_type": "code",
   "execution_count": null,
   "metadata": {},
   "outputs": [],
   "source": [
    "Data.isnull().sum()"
   ]
  },
  {
   "cell_type": "markdown",
   "metadata": {},
   "source": [
    "> ### 2-3-2. Chart of nulls in each columns"
   ]
  },
  {
   "cell_type": "code",
   "execution_count": null,
   "metadata": {},
   "outputs": [],
   "source": [
    "num_columns = len(Data.columns)\n",
    "colors = plt.cm.viridis(np.linspace(0, 1, num_columns))  \n",
    "msno.bar(Data, color = colors)\n",
    "plt.suptitle(\"Missing values\", fontsize = 30)\n",
    "plt.tight_layout()\n",
    "plt.show()"
   ]
  },
  {
   "cell_type": "markdown",
   "metadata": {},
   "source": [
    "> # 3. Data Cleaning and Preparation"
   ]
  },
  {
   "cell_type": "markdown",
   "metadata": {},
   "source": [
    "> ### 3-1. Deleting Unnessesary columns"
   ]
  },
  {
   "cell_type": "code",
   "execution_count": null,
   "metadata": {},
   "outputs": [],
   "source": [
    "Data.drop(columns = [\"id\"], inplace = True)       # Unusefull\n",
    "Data.drop(columns = [\"frame\"], inplace = True)    # Unusefull because the dataset isn\"t so big\n",
    "Data.drop(columns = [\"location\"], inplace = True) # Unusefull because the dataset isn\"t so big\n",
    "Data.drop(columns = [\"bp.2s\"], inplace = True)    # Lots of missing values\n",
    "Data.drop(columns = [\"bp.2d\"], inplace = True)    # Lots of missing values"
   ]
  },
  {
   "cell_type": "markdown",
   "metadata": {},
   "source": [
    "> ### 3-2. Calculate range of ages and place it in a new column"
   ]
  },
  {
   "cell_type": "code",
   "execution_count": null,
   "metadata": {},
   "outputs": [],
   "source": [
    "# min_age = Data[\"age\"].min()\n",
    "# max_age = Data[\"age\"].max()\n",
    "# print(f\"The range of ages is from {min_age} to {max_age}.\")\n",
    "# print (\"---------\")\n",
    "\n",
    "B = [0, 25, 60, 100]   \n",
    "L = [\"Young\", \"Adult\", \"Elderly\"]\n",
    "Data[\"age_group\"] = pd.cut(Data[\"age\"], bins = B, labels = L, right = False)"
   ]
  },
  {
   "cell_type": "markdown",
   "metadata": {},
   "source": [
    "> ### 3-3. Filling NaN in whole dataset with any type of data"
   ]
  },
  {
   "cell_type": "code",
   "execution_count": null,
   "metadata": {},
   "outputs": [],
   "source": [
    "for col in Data.columns:\n",
    "    if Data[col].dtype == \"int64\" or Data[col].dtype == \"float64\":    # Check for numeric types\n",
    "        Data[col] = Data[col].fillna(Data[col].mean())\n",
    "    elif Data[col].dtype == \"object\":                                 # Check for string types\n",
    "        Data[col] = Data[col].fillna(\"UNKNOWN\")"
   ]
  },
  {
   "cell_type": "markdown",
   "metadata": {},
   "source": [
    "> ### 3-4. Calculate BMI and place it in a new column\n",
    "> 1. BMI = weight (kg) / height (m) ** 2\n",
    "> 2. BMI = ( weight (lbs) / height (inches) ** 2 ) * 703"
   ]
  },
  {
   "cell_type": "code",
   "execution_count": null,
   "metadata": {},
   "outputs": [],
   "source": [
    "Data[\"BMI\"] = ( Data[\"weight\"] / (Data[\"height\"] ** 2) ) * 703"
   ]
  },
  {
   "cell_type": "code",
   "execution_count": null,
   "metadata": {},
   "outputs": [],
   "source": [
    "Data"
   ]
  },
  {
   "cell_type": "markdown",
   "metadata": {},
   "source": [
    "> # 4. Exploratory Data Analysis (EDA)"
   ]
  },
  {
   "cell_type": "markdown",
   "metadata": {},
   "source": [
    "> ### 4-1. Histogram of dataset after cleaning and preparation step"
   ]
  },
  {
   "cell_type": "code",
   "execution_count": null,
   "metadata": {},
   "outputs": [],
   "source": [
    "\n",
    "Data.hist(bins = 30, figsize = (20, 15), edgecolor = \"white\")\n",
    "plt.grid(axis = \"x\", alpha = 0.8)\n",
    "plt.suptitle(\"Histogram of Data\", fontsize = 20)\n",
    "plt.tight_layout()\n",
    "plt.show()"
   ]
  },
  {
   "cell_type": "markdown",
   "metadata": {},
   "source": [
    "> ### 4-2. Boxplot of dataset"
   ]
  },
  {
   "cell_type": "code",
   "execution_count": null,
   "metadata": {},
   "outputs": [],
   "source": [
    "Row , Col = 5, 4          # Count of rows and columns for chart\n",
    "fig, axes = plt.subplots(Row, Col, figsize = (15, 10))\n",
    "plt.suptitle(\"BoxPlot of Dataset\", fontsize = 20)\n",
    "\n",
    "axes = axes.flatten()     # Flatten the axes, for easier iteration\n",
    "\n",
    "for i, column in enumerate(Data.columns):       # Loop through numeric columns and create boxplots\n",
    "    sns.boxplot(data = Data, x = column, ax = axes[i])\n",
    "\n",
    "for j in range(len(Data.columns), len(axes)):   # Remove any remaining empty subplots\n",
    "    fig.delaxes(axes[j])\n",
    "\n",
    "plt.tight_layout()\n",
    "plt.grid()\n",
    "plt.show()"
   ]
  },
  {
   "cell_type": "markdown",
   "metadata": {},
   "source": [
    "> ### 4-3. Pairplot of dataset with age_group filter "
   ]
  },
  {
   "cell_type": "code",
   "execution_count": null,
   "metadata": {},
   "outputs": [],
   "source": [
    "R = sns.pairplot(Data, hue = \"age_group\")"
   ]
  },
  {
   "cell_type": "markdown",
   "metadata": {},
   "source": [
    "> ### 4-4. Correlation of dataset\n",
    ">   Correlation is for numeric data not string data"
   ]
  },
  {
   "cell_type": "code",
   "execution_count": null,
   "metadata": {},
   "outputs": [],
   "source": [
    "Num_Data = Data.copy()\n",
    "\n",
    "# Create special dictionary for strings\n",
    "gender_map = {\"male\" :1, \"female\" :2 }\n",
    "age_group_map = {\"Young\" :1, \"Adult\":2, \"Elderly\":3}\n",
    "\n",
    "# Using map of Pandas to convert strings to special numeric data\n",
    "Num_Data[\"gender\"] = Num_Data[\"gender\"].map(gender_map)\n",
    "Num_Data[\"age_group\"] = Num_Data[\"age_group\"].map(age_group_map)\n",
    "\n",
    "# Calculate Correlation\n",
    "Num_Data.corr()"
   ]
  },
  {
   "cell_type": "markdown",
   "metadata": {},
   "source": [
    "> ### 4-5. Heatmap of dataset"
   ]
  },
  {
   "cell_type": "code",
   "execution_count": null,
   "metadata": {},
   "outputs": [],
   "source": [
    "\n",
    "plt.figure(figsize = (22, 15))\n",
    "M = np.triu(Num_Data.corr())\n",
    "sns.heatmap(Num_Data.corr(), annot = True, mask = M, cmap = \"RdYlGn\")\n",
    "plt.suptitle(\"HeatMap of Correlation\", fontsize = 20)\n",
    "plt.show()"
   ]
  },
  {
   "cell_type": "markdown",
   "metadata": {},
   "source": [
    "> ### 4-6. Boxplot of dataset with details"
   ]
  },
  {
   "cell_type": "code",
   "execution_count": null,
   "metadata": {},
   "outputs": [],
   "source": [
    "numerical = Num_Data.columns.tolist()\n",
    "\n",
    "# Create subplots\n",
    "fig = make_subplots(rows = len(numerical), cols = 1)\n",
    "\n",
    "# Add box plots for each numeric column\n",
    "for i, column in enumerate(numerical):\n",
    "    fig.add_trace(go.Box(x = Num_Data[column], name = column), row = i + 1, col = 1)\n",
    "\n",
    "# Update layout\n",
    "fig.update_layout(title_text = \"Box Plots of Numeric Columns\", showlegend = False, width = 1200, height = 1200)\n",
    "\n",
    "# Show the figure\n",
    "fig.show()"
   ]
  },
  {
   "cell_type": "markdown",
   "metadata": {},
   "source": [
    "> ### 4-7. Strip plot and violin plot"
   ]
  },
  {
   "cell_type": "markdown",
   "metadata": {},
   "source": [
    "> ### 4-7-1. for Hemoglobin A1c"
   ]
  },
  {
   "cell_type": "code",
   "execution_count": null,
   "metadata": {},
   "outputs": [],
   "source": [
    "# Define color palettes\n",
    "palette1 = [\"#EB3324\", \"#0023F5\"]             # Two colors for gender\n",
    "palette2 = [\"#F08650\", \"#741B7C\", \"#4d6a73\"]  # Three colors for age groups\n",
    "\n",
    "# Create subplots\n",
    "fig, axes = plt.subplots(nrows = 2, ncols = 1, figsize = (20, 10), dpi = 400)\n",
    "fig.suptitle(\"Gender and Age Group vs Glyhb Distribution\", fontsize = 20)\n",
    "\n",
    "# Strip plot and violin plot for gender\n",
    "sns.stripplot(x = \"glyhb\", y = \"gender\", data = Data, hue = \"gender\", palette = palette1, orient = \"h\", ax = axes[0], dodge = True, legend = False)\n",
    "sns.violinplot(x =  \"glyhb\", y = \"gender\", data = Data, hue = \"gender\", palette = palette1, orient = \"h\", ax = axes[0], alpha = 0.5, legend = False)\n",
    "axes[0].set_ylabel(\"Gender\", fontsize = 17)\n",
    "\n",
    "# Strip plot and violin plot for age group\n",
    "sns.stripplot(x = \"glyhb\", y = \"age_group\", data = Data, hue = \"age_group\", palette = palette2, orient = \"h\", ax = axes[1], dodge = True, legend = False)\n",
    "sns.violinplot(x =  \"glyhb\", y = \"age_group\", data = Data, hue = \"age_group\", palette = palette2, orient = \"h\", ax = axes[1], alpha = 0.5, legend = False)\n",
    "axes[1].set_ylabel(\"Age Group\", fontsize = 17)\n",
    "\n",
    "# Show the plots\n",
    "plt.tight_layout(rect = [0, 0, 1, 0.95])      # Adjust layout to make room for the main title\n",
    "plt.show()"
   ]
  },
  {
   "cell_type": "markdown",
   "metadata": {},
   "source": [
    "> ### 4-7-2. for Stabilized Glucose"
   ]
  },
  {
   "cell_type": "code",
   "execution_count": null,
   "metadata": {},
   "outputs": [],
   "source": [
    "# Define color palettes\n",
    "palette1 = [\"#EB3324\", \"#0023F5\"]             \n",
    "palette2 = [\"#F08650\", \"#741B7C\", \"#4d6a73\"]  \n",
    "\n",
    "# Create subplots\n",
    "fig, axes = plt.subplots(nrows = 2, ncols = 1, figsize = (20, 10), dpi = 400)\n",
    "fig.suptitle(\"Gender/ Age Group vs stab.glu distribution\", fontsize = 20)\n",
    "\n",
    "# Strip plot and violin plot for gender\n",
    "sns.stripplot(x = \"stab.glu\", y = \"gender\", data = Data, hue = \"gender\", palette = palette1, orient = \"h\", ax = axes[0], dodge = True, legend = False)\n",
    "sns.violinplot(x = \"stab.glu\", y = \"gender\", data = Data, hue = \"gender\", palette = palette1, orient = \"h\", ax = axes[0], alpha = 0.5, legend = False)\n",
    "axes[0].set_ylabel(\"Gender\", fontsize = 17)\n",
    "axes[0].set_yticks([0, 1])  \n",
    "axes[0].set_yticklabels([\"Male\", \"Female\"])  \n",
    "\n",
    "# Strip plot and violin plot for age group\n",
    "sns.stripplot(x = \"stab.glu\", y = \"age_group\", data = Data, hue = \"age_group\", palette = palette2, orient = \"h\", ax = axes[1], dodge = True, legend = False)\n",
    "sns.violinplot(x = \"stab.glu\", y = \"age_group\", data = Data, hue = \"age_group\", palette = palette2, orient = \"h\", ax = axes[1], alpha = 0.5, legend = False)\n",
    "axes[1].set_ylabel(\"Age Group\", fontsize = 17)\n",
    "\n",
    "# Show the plots\n",
    "plt.tight_layout(rect = [0, 0, 1, 0.95])\n",
    "plt.show()"
   ]
  },
  {
   "cell_type": "markdown",
   "metadata": {},
   "source": [
    "> ### 4-8. Regression Plot for Hemoglobin A1c vs Stabilized Glucose"
   ]
  },
  {
   "cell_type": "code",
   "execution_count": null,
   "metadata": {},
   "outputs": [],
   "source": [
    "plt.figure(figsize = (10, 5))\n",
    "sns.set_theme(style = \"whitegrid\")\n",
    "sns.regplot(x = \"stab.glu\", y = \"glyhb\", data = Data, marker = \"o\", color = \"blue\", \n",
    "            scatter_kws =  {\"s\": 100, \"alpha\": 0.7, \"edgecolor\": \"w\"}, line_kws = {\"color\": \"red\", \"linewidth\": 2})\n",
    "plt.title(\"Regression Plot of Stab.glu vs Glyhb\")\n",
    "plt.xlabel(\"Stab.glu (mg/dL)\")\n",
    "plt.ylabel(\"Glyhb (%)\")\n",
    "plt.show()"
   ]
  },
  {
   "cell_type": "markdown",
   "metadata": {},
   "source": [
    "> ### 4-9. Calculate diabetes status and place it in a new column"
   ]
  },
  {
   "cell_type": "code",
   "execution_count": null,
   "metadata": {},
   "outputs": [],
   "source": [
    "def categorize_patient(row):\n",
    "    glyhb = row[\"glyhb\"]\n",
    "    stab_glu = row[\"stab.glu\"]\n",
    "    \n",
    "    if glyhb <=  5.7 or glyhb <=  5.7 and stab_glu <=  99:\n",
    "        return \"Normal\"\n",
    "    elif 5.7 < glyhb < 6.5 or 5.7 < glyhb < 6.5 and 99 < stab_glu < 125:\n",
    "        return \"Prediabetes\"\n",
    "    elif glyhb >=  6.5 or glyhb >=  6.5 and stab_glu >=  125:\n",
    "        return \"Diabetes\"\n",
    "    else:\n",
    "        return \"Unknown\"\n",
    "    \n",
    "Data[\"Diabetes_Status\"] = Data.apply(categorize_patient, axis = 1)\n",
    "\n",
    "#Data\n",
    "print(Data[\"Diabetes_Status\"].value_counts())\n",
    "\n",
    "\n",
    "# Pie chart\n",
    "status_counts = Data[\"Diabetes_Status\"].value_counts()\n",
    "plt.figure(figsize = (6, 6))\n",
    "plt.pie(status_counts , autopct = \"%1.1f%%\", startangle = 200)\n",
    "plt.title(\"Distribution of Diabetes Status\")\n",
    "plt.axis(\"equal\")\n",
    "plt.axis(\"equal\")\n",
    "plt.legend(labels = status_counts.index)\n",
    "plt.show()"
   ]
  },
  {
   "cell_type": "markdown",
   "metadata": {},
   "source": [
    "> ### 4-10. Compare features with each other"
   ]
  },
  {
   "cell_type": "markdown",
   "metadata": {},
   "source": [
    "> ### 4-10-1. Hemoglobin A1c vs Stabilized Glucose"
   ]
  },
  {
   "cell_type": "code",
   "execution_count": null,
   "metadata": {},
   "outputs": [],
   "source": [
    "# Define colors for each age group\n",
    "colors = {\"Young\": \"#F08650\", \"Adult\": \"#377D22\", \"Elderly\": \"#FF26FA\"}\n",
    "\n",
    "# Create the figure\n",
    "plt.figure(figsize = (15, 5), dpi = 400)\n",
    "\n",
    "# Loop through each age group and plot\n",
    "for age_group, color in colors.items():\n",
    "    subset = Data[Data[\"age_group\"] == age_group]\n",
    "    plt.scatter(subset[\"stab.glu\"], subset[\"glyhb\"], marker = \"o\", s = 80,\n",
    "                facecolors = \"none\", edgecolors = color, lw = 1, label = age_group)\n",
    "\n",
    "plt.title(\"Hemoglobin A1c vs Stabilized Glucose\", fontsize = 30)\n",
    "plt.xlabel(\"stab.glu (mg/dl)\", fontsize = 15)\n",
    "plt.ylabel(\"glyhb (%)\", fontsize = 15)\n",
    "\n",
    "# Vertical lines for stab.glu levels\n",
    "plt.axvline(x = 99, color = \"black\", linestyle = \"--\")\n",
    "plt.axvline(x = 126, color = \"blue\", linestyle = \"-\")\n",
    "\n",
    "# Text annotations for stab.glu levels\n",
    "plt.text(80, 16.5, \"Normal\", fontsize = 11, color = \"black\")\n",
    "plt.text(80, 15.5, \"x < 99\", fontsize = 11, color = \"black\")\n",
    "plt.text(99.3, 16, \"Prediabetes\", fontsize = 11, color = \"black\")\n",
    "plt.text(99.3, 15, \"99 < x < 126\", fontsize = 11, color = \"black\")\n",
    "plt.text(128, 15, \"Diabetes\", fontsize = 11, color = \"blue\")\n",
    "plt.text(128, 14, \"x > 126\", fontsize = 11, color = \"blue\")\n",
    "\n",
    "# Horizontal lines for glyhb levels\n",
    "plt.axhline(y = 5.7, color = \"black\", linestyle = \"--\")\n",
    "plt.axhline(y = 6.4, color = \"red\", linestyle = \"-\")\n",
    "\n",
    "# Text annotations for glyhb levels\n",
    "plt.text(300, 5, \"y < 5.7 : Normal\", fontsize = 11, color = \"black\")\n",
    "plt.text(300, 5.8, \"5.7 < y < 6.4 : Prediabetes\", fontsize = 11, color = \"black\")\n",
    "plt.text(300, 6.9, \"y > 6.4 : Diabetes\", fontsize = 11, color = \"red\")\n",
    "\n",
    "# Set tick sizes\n",
    "plt.xticks(fontsize = 15)\n",
    "plt.yticks(fontsize = 15)\n",
    "\n",
    "# Add legend\n",
    "plt.legend(title = \"Age Group\", fontsize = 12, title_fontsize = \"13\")\n",
    "\n",
    "# Show the plot\n",
    "plt.show()"
   ]
  },
  {
   "cell_type": "markdown",
   "metadata": {},
   "source": [
    "> ### 4-10-2. Cholesterol Ratio vs Cholesterol"
   ]
  },
  {
   "cell_type": "code",
   "execution_count": null,
   "metadata": {},
   "outputs": [],
   "source": [
    "# Define colors for each age group\n",
    "colors = {\"Young\": \"#F08650\", \"Adult\": \"#377D22\", \"Elderly\": \"#FF26FA\"}\n",
    "\n",
    "# Create the figure\n",
    "plt.figure(figsize = (15, 5), dpi = 400)\n",
    "\n",
    "# Loop through each age group and plot\n",
    "for age_group, color in colors.items():\n",
    "    subset = Data[Data[\"age_group\"] == age_group]\n",
    "    plt.scatter(subset[\"chol\"], subset[\"ratio\"], marker = \"o\", s = 80,\n",
    "                facecolors = \"none\", edgecolors = color, lw = 1, label = age_group)\n",
    "\n",
    "plt.title(\"Cholesterol Ratio vs Cholesterol\", fontsize = 30)\n",
    "plt.xlabel(\"chol (mg/dl)\", fontsize = 15)\n",
    "plt.ylabel(\"ratio (Number)\", fontsize = 15)\n",
    "\n",
    "# Vertical lines for chol levels\n",
    "plt.axvline(x = 199, color = \"black\", linestyle = \"--\")\n",
    "plt.axvline(x = 239, color = \"blue\", linestyle = \"-\")\n",
    "\n",
    "# Text annotations for chol levels\n",
    "plt.text(178,17.5, \"Desirable\", fontsize = 11, color = \"black\")\n",
    "plt.text(178, 16.5, \"x < 199\", fontsize = 11, color = \"black\")\n",
    "plt.text(205,17.5, \"Borderline\", fontsize = 11, color = \"black\")\n",
    "plt.text(205, 16.5, \"199 < x < 239\", fontsize = 11, color = \"black\")\n",
    "plt.text(245, 17.5, \"High\", fontsize = 11, color = \"blue\")\n",
    "plt.text(245, 16.5, \"x > 239\", fontsize = 11, color = \"blue\")\n",
    "\n",
    "# Horizontal lines for ratio levels\n",
    "plt.axhline(y = 3.5, color = \"black\", linestyle = \"--\")\n",
    "plt.axhline(y = 4.5, color = \"black\", linestyle = \"--\")\n",
    "plt.axhline(y = 5, color = \"red\", linestyle = \"-\")\n",
    "\n",
    "# Text annotations for ratio levels\n",
    "plt.text(410, 2.6, \"y < 3.5 : Ideal\", fontsize = 11, color = \"black\")\n",
    "plt.text(410, 3.8, \"3.5 < y < 4.5 : Good\", fontsize = 11, color = \"black\")\n",
    "plt.text(410, 4.6, \"4.5 < y < 5 : Moderate risk\", fontsize = 11, color = \"black\")\n",
    "plt.text(410, 5.3, \"y > 5 : High risk\", fontsize = 11, color = \"red\")\n",
    "\n",
    "# Set tick sizes\n",
    "plt.xticks(fontsize = 15)\n",
    "plt.yticks(fontsize = 15)\n",
    "\n",
    "# Add legend\n",
    "plt.legend(title = \"Age Group\", fontsize = 12, title_fontsize = \"13\")\n",
    "\n",
    "# Show the plot\n",
    "plt.show()"
   ]
  },
  {
   "cell_type": "markdown",
   "metadata": {},
   "source": [
    "> ### 4-10-3. Cholesterol vs BMI"
   ]
  },
  {
   "cell_type": "code",
   "execution_count": null,
   "metadata": {},
   "outputs": [],
   "source": [
    "colors = {\"Young\": \"#F08650\", \"Adult\": \"#377D22\", \"Elderly\" : \"#FF26FA\"}\n",
    "\n",
    "# Create the figure\n",
    "plt.figure(figsize = (15, 5), dpi = 400)\n",
    "\n",
    "# Loop through each gender and plot\n",
    "for age_group, color in colors.items():\n",
    "    subset = Data[Data[\"age_group\"] == age_group]\n",
    "    plt.scatter(subset[\"chol\"], subset[\"BMI\"], marker = \"o\", s = 80,\n",
    "                facecolors = \"none\", edgecolors = color, lw = 1, label = age_group)\n",
    "\n",
    "plt.title(\"Cholesterol vs BMI\", fontsize = 30)\n",
    "plt.xlabel(\"chol (mg/dl)\", fontsize = 15)\n",
    "plt.ylabel(\"BMI (Number)\", fontsize = 15)\n",
    "\n",
    "# Vertical lines for chol levels\n",
    "plt.axvline(x = 199, color = \"black\", linestyle = \"--\")\n",
    "plt.axvline(x = 239, color = \"blue\", linestyle = \"-\")\n",
    "\n",
    "# Text annotations for chol levels\n",
    "plt.text(174, 55, \"Desirable\", fontsize = 11, color = \"black\")\n",
    "plt.text(174, 52, \"x < 199\", fontsize = 11, color = \"black\")\n",
    "plt.text(205, 55, \"Borderline\", fontsize = 11, color = \"black\")\n",
    "plt.text(205, 52, \"199 < x < 239\", fontsize = 11, color = \"black\")\n",
    "plt.text(245, 55, \"High\", fontsize = 11, color = \"blue\")\n",
    "plt.text(245, 52, \"x > 239\", fontsize = 11, color = \"blue\")\n",
    "\n",
    "# Horizontal lines for BMI levels\n",
    "plt.axhline(y = 18.5, color = \"black\", linestyle = \"--\")\n",
    "plt.axhline(y = 24.9, color = \"black\", linestyle = \"--\")\n",
    "plt.axhline(y = 29.9, color = \"red\", linestyle = \"-\")\n",
    "\n",
    "# Text annotations for BMI levels\n",
    "plt.text(380, 16, \"y < 18.5 : Under weight\", fontsize = 11, color = \"black\")\n",
    "plt.text(380, 21, \"18.5 < y < 24.9 : Normal weight\", fontsize = 11, color = \"black\")\n",
    "plt.text(380, 27, \"24.9 < y < 29.9 : Over weight\", fontsize = 11, color = \"black\")\n",
    "plt.text(380, 32, \"y > 29.9 : Obesity weight\", fontsize = 11, color = \"red\")\n",
    "\n",
    "# Set tick sizes\n",
    "plt.xticks(fontsize = 15)\n",
    "plt.yticks(fontsize = 15)\n",
    "\n",
    "# Add legend\n",
    "plt.legend(title = \"Age_Group\", fontsize = 12, title_fontsize = \"13\")\n",
    "\n",
    "# Show the plot\n",
    "plt.show()"
   ]
  },
  {
   "cell_type": "markdown",
   "metadata": {},
   "source": [
    "> ### 4-10-4. Hemoglobin A1c vs Systolic Blood Pressure"
   ]
  },
  {
   "cell_type": "code",
   "execution_count": null,
   "metadata": {},
   "outputs": [],
   "source": [
    "colors = {\"Young\": \"#F08650\", \"Adult\": \"#377D22\", \"Elderly\" : \"#FF26FA\"}\n",
    "\n",
    "# Create the figure\n",
    "plt.figure(figsize = (15, 5), dpi = 400)\n",
    "\n",
    "# Loop through each gender and plot\n",
    "for age_group, color in colors.items():\n",
    "    subset = Data[Data[\"age_group\"] == age_group]\n",
    "    plt.scatter(subset[\"bp.1s\"], subset[\"glyhb\"], marker = \"o\", s = 80,\n",
    "                facecolors = \"none\", edgecolors = color, lw = 1, label = age_group)\n",
    "    \n",
    "plt.title(\"Hemoglobin A1c vs Systolic Blood Pressure\", fontsize = 30)\n",
    "plt.xlabel(\"bp.1s (mm Hg)\", fontsize = 15)\n",
    "plt.ylabel(\"glyhb (%)\", fontsize = 15)\n",
    "\n",
    "# Vertical lines for bp.1s levels\n",
    "plt.axvline(x = 120, color = \"black\", linestyle = \"--\")\n",
    "plt.axvline(x = 130, color = \"black\", linestyle = \"--\")\n",
    "plt.axvline(x = 140, color = \"blue\", linestyle = \"-\")\n",
    "\n",
    "# Text annotations for bp.1s levels\n",
    "plt.text(110, 16.5, \"Normal\", fontsize = 11, color = \"black\")\n",
    "plt.text(110, 15.5, \"x < 120\", fontsize = 11, color = \"black\")\n",
    "plt.text(121, 15.5, \"Elevated\", fontsize = 11, color = \"black\")\n",
    "plt.text(121, 14.5, \"120 < x < 130\", fontsize = 11, color = \"black\")\n",
    "plt.text(131, 14, \"Hypertension\", fontsize = 11, color = \"black\")\n",
    "plt.text(131, 13, \"130 < x < 140\", fontsize = 11, color = \"black\")\n",
    "plt.text(141, 12.5, \"emergency care\", fontsize = 11, color = \"blue\")\n",
    "plt.text(141, 11.5, \"x > 140\", fontsize = 11, color = \"blue\")\n",
    "\n",
    "# Horizontal lines for glyhb levels\n",
    "plt.axhline(y = 5.7, color = \"black\", linestyle = \"--\")\n",
    "plt.axhline(y = 6.4, color = \"red\", linestyle = \"-\")\n",
    "\n",
    "# Text annotations for glyhb levels\n",
    "plt.text(233, 5, \"y < 5.7 : Normal\", fontsize = 11, color = \"black\")\n",
    "plt.text(230, 5.9, \"5.7 < y < 6.4 : Prediabetes\", fontsize = 11, color = \"black\")\n",
    "plt.text(227, 6.8, \"y > 6.4 : Diabetes\", fontsize = 11, color = \"red\")\n",
    "\n",
    "# Set tick sizes\n",
    "plt.xticks(fontsize = 15)\n",
    "plt.yticks(fontsize = 15)\n",
    "\n",
    "# Add legend\n",
    "plt.legend(title = \"Age_Group\", fontsize = 12, title_fontsize = \"13\")\n",
    "\n",
    "# Show the plot\n",
    "plt.show()"
   ]
  },
  {
   "cell_type": "markdown",
   "metadata": {},
   "source": [
    "> ### 4-10-5. Hemoglobin A1c vs Diastolic Blood Pressure"
   ]
  },
  {
   "cell_type": "code",
   "execution_count": null,
   "metadata": {},
   "outputs": [],
   "source": [
    "# Define colors for each age group\n",
    "colors = {\"Young\": \"#F08650\", \"Adult\": \"#377D22\", \"Elderly\": \"#FF26FA\"}\n",
    "\n",
    "# Create the figure\n",
    "plt.figure(figsize = (15, 5), dpi = 400)\n",
    "\n",
    "# Loop through each age group and plot\n",
    "for age_group, color in colors.items():\n",
    "    subset = Data[Data[\"age_group\"] == age_group]\n",
    "    plt.scatter(subset[\"bp.1d\"], subset[\"glyhb\"], marker = \"o\", s = 80,\n",
    "                facecolors = \"none\", edgecolors = color, lw = 1, label = age_group)\n",
    "    \n",
    "plt.title(\"Hemoglobin A1c vs Diastolic Blood Pressure\", fontsize = 30)\n",
    "plt.xlabel(\"bp.1d (mm Hg)\", fontsize = 15)\n",
    "plt.ylabel(\"glyhb (%)\", fontsize = 15)\n",
    "\n",
    "# Vertical lines for bp.1d levels\n",
    "plt.axvline(x = 80, color = \"black\", linestyle = \"--\")\n",
    "plt.axvline(x = 89, color = \"black\", linestyle = \"--\")\n",
    "plt.axvline(x = 99, color = \"blue\", linestyle = \"-\")\n",
    "\n",
    "# Text annotations for bp.1d levels\n",
    "plt.text(75, 15, \"Normal\", fontsize = 11, color = \"black\")\n",
    "plt.text(75, 14.5, \"x < 80\", fontsize = 11, color = \"black\")\n",
    "plt.text(81, 14, \"Elevated\", fontsize = 11, color = \"black\")\n",
    "plt.text(81, 13.5, \"80 < x < 89\", fontsize = 11, color = \"black\")\n",
    "plt.text(90, 13, \"Hypertension\", fontsize = 11, color = \"black\")\n",
    "plt.text(90, 12.5, \"89 < x < 99\", fontsize = 11, color = \"black\")\n",
    "plt.text(100, 12, \"emergency care\", fontsize = 11, color = \"blue\")\n",
    "plt.text(100, 11.5, \"x > 99\", fontsize = 11, color = \"blue\")\n",
    "\n",
    "# Horizontal lines for glyhb levels\n",
    "plt.axhline(y = 5.7, color = \"black\", linestyle = \"--\")\n",
    "plt.axhline(y = 6.4, color = \"red\", linestyle = \"-\")\n",
    "\n",
    "# Text annotations for glyhb levels\n",
    "plt.text(118, 5, \"y < 5.7 : Normal\", fontsize = 11, color = \"black\")\n",
    "plt.text(115, 5.9, \"5.7 < y < 6.4 : Prediabetes\", fontsize = 11, color = \"black\")\n",
    "plt.text(118, 6.8, \"y > 6.4 : Diabetes\", fontsize = 11, color = \"red\")\n",
    "\n",
    "# Set tick sizes\n",
    "plt.xticks(fontsize = 15)\n",
    "plt.yticks(fontsize = 15)\n",
    "\n",
    "# Add legend\n",
    "plt.legend(title = \"Age_Group\", fontsize = 12, title_fontsize = \"13\")\n",
    "\n",
    "# Show the plot\n",
    "plt.show()"
   ]
  },
  {
   "cell_type": "markdown",
   "metadata": {},
   "source": [
    "> ### 4-10-6. Cholesterol vs High-Density Lipoprotein"
   ]
  },
  {
   "cell_type": "code",
   "execution_count": null,
   "metadata": {},
   "outputs": [],
   "source": [
    "# Define colors for each age group\n",
    "colors = {\"Young\": \"#F08650\", \"Adult\": \"#377D22\", \"Elderly\": \"#FF26FA\"}\n",
    "\n",
    "# Create the figure\n",
    "plt.figure(figsize = (15, 5), dpi = 400)\n",
    "\n",
    "# Loop through each age group and plot\n",
    "for age_group, color in colors.items():\n",
    "    subset = Data[Data[\"age_group\"] == age_group]\n",
    "    plt.scatter(subset[\"chol\"], subset[\"glyhb\"], marker = \"o\", s = 80,\n",
    "                facecolors = \"none\", edgecolors = color, lw = 1, label = age_group)\n",
    "\n",
    "plt.title(\"Cholesterol vs High-Density Lipoprotein\", fontsize = 30)\n",
    "plt.xlabel(\"chol (mg/dl)\", fontsize = 15)\n",
    "plt.ylabel(\"hdl (mg/dl)\", fontsize = 15)\n",
    "\n",
    "# Vertical lines for chol levels\n",
    "plt.axvline(x = 199, color = \"black\", linestyle = \"--\")\n",
    "plt.axvline(x = 239, color = \"blue\", linestyle = \"-\")\n",
    "\n",
    "# Text annotations for chol levels\n",
    "plt.text(178, 115, \"Desirable  \", fontsize = 11, color = \"black\")\n",
    "plt.text(178, 110, \"x < 199\", fontsize = 11, color = \"black\")\n",
    "plt.text(205, 115, \"Borderline \", fontsize = 11, color = \"black\")\n",
    "plt.text(205, 110, \"199 < x < 239\", fontsize = 11, color = \"black\")\n",
    "plt.text(245, 115, \"High  \", fontsize = 11, color = \"blue\")\n",
    "plt.text(245, 110, \"x > 239\", fontsize = 11, color = \"blue\")\n",
    "\n",
    "# Horizontal lines for glyhb levels\n",
    "plt.axhline(y = 39, color = \"black\", linestyle = \"--\")\n",
    "plt.axhline(y = 59, color = \"red\", linestyle = \"-\")\n",
    "\n",
    "# Text annotations for glyhb levels\n",
    "plt.text(350, 34, \"y < 39 : Low   \", fontsize = 11, color = \"black\")\n",
    "plt.text(350, 52, \"39 < y < 59 : Acceptable  \", fontsize = 11, color = \"black\")\n",
    "plt.text(350, 63, \"y > 59 : Good   \", fontsize = 11, color = \"red\")\n",
    "\n",
    "# Set tick sizes\n",
    "plt.xticks(fontsize = 15)\n",
    "plt.yticks(fontsize = 15)\n",
    "\n",
    "# Add legend\n",
    "plt.legend(title = \"Age_Group\", fontsize = 12, title_fontsize = \"13\")\n",
    "\n",
    "# Show the plot\n",
    "plt.show()"
   ]
  },
  {
   "cell_type": "markdown",
   "metadata": {},
   "source": [
    "> ### 4-10-7. Hemoglobin A1c vs BMI"
   ]
  },
  {
   "cell_type": "code",
   "execution_count": null,
   "metadata": {},
   "outputs": [],
   "source": [
    "# Define colors for each age group\n",
    "colors = {\"Young\": \"#F08650\", \"Adult\": \"#377D22\", \"Elderly\": \"#FF26FA\"}\n",
    "\n",
    "# Create the figure\n",
    "plt.figure(figsize = (15, 5), dpi = 400)\n",
    "\n",
    "# Loop through each age group and plot\n",
    "for age_group, color in colors.items():\n",
    "    subset = Data[Data[\"age_group\"] == age_group]\n",
    "    plt.scatter(subset[\"glyhb\"], subset[\"BMI\"], marker = \"o\", s = 80,\n",
    "            facecolors = \"none\", edgecolors = color, lw = 1, label = age_group)\n",
    "    \n",
    "plt.title(\"Hemoglobin A1c vs BMI\", fontsize = 30)\n",
    "plt.xlabel(\"glyhb (%)\", fontsize = 15)\n",
    "plt.ylabel(\"BMI (Number)\", fontsize = 15)\n",
    "\n",
    "# Vertical lines for glyhb levels\n",
    "plt.axvline(x = 5.7, color = \"black\", linestyle = \"--\")\n",
    "plt.axvline(x = 6.4, color = \"blue\", linestyle = \"-\")\n",
    "\n",
    "# Text annotations for glyhb levels\n",
    "plt.text(5, 55, \"Normal \", fontsize = 11, color = \"black\")\n",
    "plt.text(5, 53, \"x < 5.7\", fontsize = 11, color = \"black\")\n",
    "plt.text(5.8, 53, \"Prediabetes \", fontsize = 11, color = \"black\")\n",
    "plt.text(5.8, 51, \"5.7 < x < 6.4\", fontsize = 11, color = \"black\")\n",
    "plt.text(6.5, 49, \"Diabetes\", fontsize = 11, color = \"blue\")\n",
    "plt.text(6.5, 47, \"x > 6.4\", fontsize = 11, color = \"blue\")\n",
    "\n",
    "# Horizontal lines for BMI levels\n",
    "plt.axhline(y = 18.5, color = \"black\", linestyle = \"--\")\n",
    "plt.axhline(y = 24.9, color = \"black\", linestyle = \"--\")\n",
    "plt.axhline(y = 29.9, color = \"red\", linestyle = \"-\")\n",
    "\n",
    "# Text annotations for BMI levels\n",
    "plt.text(14, 16.5, \"y < 18.5 : Under weight \", fontsize = 11, color = \"black\")\n",
    "plt.text(14, 22.5, \"18.5 < y < 24.9 : Normal weight \", fontsize = 11, color = \"black\")\n",
    "plt.text(14, 28, \"24.9 < y < 29.9 : Over weight \", fontsize = 11, color = \"black\")\n",
    "plt.text(14, 32, \"y > 29.9 : Obesity weight \", fontsize = 11, color = \"red\")\n",
    "\n",
    "\n",
    "# Set tick sizes\n",
    "plt.xticks(fontsize = 15)\n",
    "plt.yticks(fontsize = 15)\n",
    "\n",
    "# Add legend\n",
    "plt.legend(title = \"Age_Group\", fontsize = 12, title_fontsize = \"13\")\n",
    "\n",
    "# Show the plot\n",
    "plt.show()"
   ]
  },
  {
   "cell_type": "markdown",
   "metadata": {},
   "source": [
    "> ### 4-10-8. Stabilized Glucose vs Cholesterol"
   ]
  },
  {
   "cell_type": "code",
   "execution_count": null,
   "metadata": {},
   "outputs": [],
   "source": [
    "# Define colors for each age group\n",
    "colors = {\"Young\": \"#F08650\", \"Adult\": \"#377D22\", \"Elderly\": \"#FF26FA\"}\n",
    "\n",
    "# Create the figure\n",
    "plt.figure(figsize = (15, 5), dpi = 400)\n",
    "\n",
    "# Loop through each age group and plot\n",
    "for age_group, color in colors.items():\n",
    "    subset = Data[Data[\"age_group\"] == age_group]\n",
    "    plt.scatter(subset[\"stab.glu\"], subset[\"chol\"], marker = \"o\", s = 80,\n",
    "            facecolors = \"none\", edgecolors = color, lw = 1, label = age_group)\n",
    "    \n",
    "plt.title(\"Stabilized Glucose vs Cholesterol\", fontsize = 30)\n",
    "plt.xlabel(\"stab.glu (mg/dl)\", fontsize = 15)\n",
    "plt.ylabel(\"chol (mg/dl)\", fontsize = 15)\n",
    "\n",
    "# Vertical lines for stab.glu levels\n",
    "plt.axvline(x = 99, color = \"black\", linestyle = \"--\")\n",
    "plt.axvline(x = 126, color = \"blue\", linestyle = \"-\")\n",
    "\n",
    "# Text annotations for stab.glu levels\n",
    "plt.text(78, 420, \"Normal \", fontsize = 11, color = \"black\")\n",
    "plt.text(78, 405, \"x < 99\", fontsize = 11, color = \"black\")\n",
    "plt.text(100, 420, \"Prediabetes\", fontsize = 11, color = \"black\")\n",
    "plt.text(100, 405, \"99 < x < 126\", fontsize = 11, color = \"black\")\n",
    "plt.text(130, 420, \"Diabetes \", fontsize = 11, color = \"blue\")\n",
    "plt.text(130, 405, \"x > 126\", fontsize = 11, color = \"blue\")\n",
    "\n",
    "# Horizontal lines for chol levels\n",
    "plt.axhline(y = 199, color = \"black\", linestyle = \"--\")\n",
    "plt.axhline(y = 239, color = \"red\", linestyle = \"-\")\n",
    "\n",
    "# Text annotations for chol levels\n",
    "plt.text(350, 185, \"y < 199 : Desirable \", fontsize = 11, color = \"black\")\n",
    "plt.text(350, 215, \"199 < y < 239 : Borderline \", fontsize = 11, color = \"black\")\n",
    "plt.text(350, 245, \"y > 239 : High \", fontsize = 11, color = \"red\")\n",
    "\n",
    "\n",
    "# Set tick sizes\n",
    "plt.xticks(fontsize = 15)\n",
    "plt.yticks(fontsize = 15)\n",
    "\n",
    "# Add legend\n",
    "plt.legend(title = \"Age_Group\", fontsize = 12, title_fontsize = \"13\")\n",
    "\n",
    "# Show the plot\n",
    "plt.show()"
   ]
  },
  {
   "cell_type": "markdown",
   "metadata": {},
   "source": [
    "> ### 4-10-9. Hemoglobin A1c vs Cholesterol"
   ]
  },
  {
   "cell_type": "code",
   "execution_count": null,
   "metadata": {},
   "outputs": [],
   "source": [
    "# Define colors for each age group\n",
    "colors = {\"Young\": \"#F08650\", \"Adult\": \"#377D22\", \"Elderly\": \"#FF26FA\"}\n",
    "\n",
    "# Create the figure\n",
    "plt.figure(figsize = (15, 5), dpi = 400)\n",
    "\n",
    "# Loop through each age group and plot\n",
    "for age_group, color in colors.items():\n",
    "    subset = Data[Data[\"age_group\"] == age_group]\n",
    "    plt.scatter(subset[\"glyhb\"], subset[\"chol\"], marker = \"o\", s = 80,\n",
    "            facecolors = \"none\", edgecolors = color, lw = 1, label = age_group)\n",
    "    \n",
    "plt.title(\"Hemoglobin A1c vs Cholesterol\", fontsize = 30)\n",
    "plt.xlabel(\"glyhb (%)\", fontsize = 15)\n",
    "plt.ylabel(\"chol (mg/dl)\", fontsize = 15)\n",
    "\n",
    "# Vertical lines for glyhb\n",
    "plt.axvline(x = 5.7, color = \"black\", linestyle = \"--\")\n",
    "plt.axvline(x = 6.4, color = \"blue\", linestyle = \"-\")\n",
    "\n",
    "# Text annotations for glyhb levels\n",
    "plt.text(5, 420, \"Normal \", fontsize = 11, color = \"black\")\n",
    "plt.text(5, 405, \"x < 5.7\", fontsize = 11, color = \"black\")\n",
    "plt.text(5.8, 405, \"Prediabetes \", fontsize = 11, color = \"black\")\n",
    "plt.text(5.8, 390, \"5.7 < x < 6.4\", fontsize = 11, color = \"black\")\n",
    "plt.text(6.5, 380, \"Diabetes\", fontsize = 11, color = \"blue\")\n",
    "plt.text(6.5, 365, \"x > 6.4\", fontsize = 11, color = \"blue\")\n",
    "\n",
    "# Horizontal lines for chol levels\n",
    "plt.axhline(y = 199, color = \"black\", linestyle = \"--\")\n",
    "plt.axhline(y = 239, color = \"red\", linestyle = \"-\")\n",
    "\n",
    "# Text annotations for chol levels\n",
    "plt.text(14, 185, \"y < 199 : Desirable \", fontsize = 11, color = \"black\")\n",
    "plt.text(14, 215, \"199 < y < 239 : Borderline \", fontsize = 11, color = \"black\")\n",
    "plt.text(14, 245, \"y > 239 : High \", fontsize = 11, color = \"red\")\n",
    "\n",
    "\n",
    "# Set tick sizes\n",
    "plt.xticks(fontsize = 15)\n",
    "plt.yticks(fontsize = 15)\n",
    "\n",
    "# Add legend\n",
    "plt.legend(title = \"Age_Group\", fontsize = 12, title_fontsize = \"13\")\n",
    "\n",
    "# Show the plot\n",
    "plt.show()"
   ]
  },
  {
   "cell_type": "markdown",
   "metadata": {},
   "source": [
    "> ### 4-10-10. Hemoglobin A1c vs Waist"
   ]
  },
  {
   "cell_type": "code",
   "execution_count": null,
   "metadata": {},
   "outputs": [],
   "source": [
    "# Define colors for each age group\n",
    "colors = {\"Young\": \"#F08650\", \"Adult\": \"#377D22\", \"Elderly\": \"#FF26FA\"}\n",
    "\n",
    "# Create the figure\n",
    "plt.figure(figsize = (15, 5), dpi = 400)\n",
    "\n",
    "# Loop through each age group and plot\n",
    "for age_group, color in colors.items():\n",
    "    subset = Data[Data[\"age_group\"] == age_group]\n",
    "    plt.scatter(subset[\"glyhb\"], subset[\"waist\"], marker = \"o\", s = 80,\n",
    "            facecolors = \"none\", edgecolors = color, lw = 1, label = age_group)\n",
    "    \n",
    "plt.title(\"Hemoglobin A1c vs Waist\", fontsize = 30)\n",
    "plt.xlabel(\"glyhb (%)\", fontsize = 15)\n",
    "plt.ylabel(\"waist (inches)\", fontsize = 15)\n",
    "\n",
    "# Vertical lines for glyhb\n",
    "plt.axvline(x = 5.7, color = \"black\", linestyle = \"--\")\n",
    "plt.axvline(x = 6.4, color = \"blue\", linestyle = \"-\")\n",
    "\n",
    "# Text annotations for glyhb levels\n",
    "plt.text(5, 58, \"Normal \", fontsize = 11, color = \"black\")\n",
    "plt.text(5, 56, \"x < 5.7\", fontsize = 11, color = \"black\")\n",
    "plt.text(5.8, 56, \"Prediabetes \", fontsize = 11, color = \"black\")\n",
    "plt.text(5.8, 54, \"5.7 < x < 6.4\", fontsize = 11, color = \"black\")\n",
    "plt.text(6.5, 53, \"Diabetes\", fontsize = 11, color = \"blue\")\n",
    "plt.text(6.5, 51, \"x > 6.4\", fontsize = 11, color = \"blue\")\n",
    "\n",
    "# Horizontal lines for waist levels\n",
    "plt.axhline(y = 35, color = \"red\", linestyle = \"--\")\n",
    "plt.axhline(y = 40, color = \"red\", linestyle = \"--\")\n",
    "\n",
    "# Text annotations for waist levels\n",
    "plt.text(13, 36, \"y > 35 : high risk for womens \", fontsize = 11, color = \"red\")\n",
    "plt.text(13, 41, \"y > 40 : high risk for mens\", fontsize = 11, color = \"red\")\n",
    "\n",
    "\n",
    "# Set tick sizes\n",
    "plt.xticks(fontsize = 15)\n",
    "plt.yticks(fontsize = 15)\n",
    "\n",
    "# Add legend\n",
    "plt.legend(title = \"Age_Group\", fontsize = 12, title_fontsize = \"13\")\n",
    "\n",
    "# Show the plot\n",
    "plt.show()"
   ]
  },
  {
   "cell_type": "markdown",
   "metadata": {},
   "source": [
    "> ### 4-10-11. Stabilized Glucose vs Waist"
   ]
  },
  {
   "cell_type": "code",
   "execution_count": null,
   "metadata": {},
   "outputs": [],
   "source": [
    "# Define colors for each age group\n",
    "colors = {\"Young\": \"#F08650\", \"Adult\": \"#377D22\", \"Elderly\": \"#FF26FA\"}\n",
    "\n",
    "# Create the figure\n",
    "plt.figure(figsize = (15, 5), dpi = 400)\n",
    "\n",
    "# Loop through each age group and plot\n",
    "for age_group, color in colors.items():\n",
    "    subset = Data[Data[\"age_group\"] == age_group]\n",
    "    plt.scatter(subset[\"stab.glu\"], subset[\"waist\"], marker = \"o\", s = 80,\n",
    "            facecolors = \"none\", edgecolors = color, lw = 1, label = age_group)\n",
    "    \n",
    "plt.title(\"Stabilized Glucose vs Waist\", fontsize = 30)\n",
    "plt.xlabel(\"stab.glu (mg/dl)\", fontsize = 15)\n",
    "plt.ylabel(\"waist (inches)\", fontsize = 15)\n",
    "\n",
    "# Vertical lines for stab.glu\n",
    "plt.axvline(x = 99, color = \"black\", linestyle = \"--\")\n",
    "plt.axvline(x = 126, color = \"blue\", linestyle = \"-\")\n",
    "\n",
    "# Text annotations for stab.glu levels\n",
    "plt.text(78, 58, \"Normal \", fontsize = 11, color = \"black\")\n",
    "plt.text(78, 56, \"x < 99\", fontsize = 11, color = \"black\")\n",
    "plt.text(100, 56, \"Prediabetes\", fontsize = 11, color = \"black\")\n",
    "plt.text(100, 54, \"99 < x < 126\", fontsize = 11, color = \"black\")\n",
    "plt.text(130, 53, \"Diabetes \", fontsize = 11, color = \"blue\")\n",
    "plt.text(130, 51, \"x > 126\", fontsize = 11, color = \"blue\")\n",
    "\n",
    "# Horizontal lines for waist levels\n",
    "plt.axhline(y = 35, color = \"red\", linestyle = \"--\")\n",
    "plt.axhline(y = 40, color = \"red\", linestyle = \"--\")\n",
    "\n",
    "# Text annotations for waist levels\n",
    "plt.text(320, 36, \"y > 35 : high risk for womens \", fontsize = 11, color = \"red\")\n",
    "plt.text(320, 41, \"y > 40 : high risk for mens\", fontsize = 11, color = \"red\")\n",
    "\n",
    "\n",
    "# Set tick sizes\n",
    "plt.xticks(fontsize = 15)\n",
    "plt.yticks(fontsize = 15)\n",
    "\n",
    "# Add legend\n",
    "plt.legend(title = \"Age_Group\", fontsize = 12, title_fontsize = \"13\")\n",
    "\n",
    "# Show the plot\n",
    "plt.show()"
   ]
  },
  {
   "cell_type": "markdown",
   "metadata": {},
   "source": [
    "> ### 4-10-12. Stabilized Glucose vs Time.ppn"
   ]
  },
  {
   "cell_type": "code",
   "execution_count": null,
   "metadata": {},
   "outputs": [],
   "source": [
    "# Define colors for each age group\n",
    "colors = {\"Young\": \"#F08650\", \"Adult\": \"#377D22\", \"Elderly\": \"#FF26FA\"}\n",
    "\n",
    "# Create the figure\n",
    "plt.figure(figsize = (15, 5), dpi = 400)\n",
    "\n",
    "# Loop through each age group and plot\n",
    "for age_group, color in colors.items():\n",
    "    subset = Data[Data[\"age_group\"] == age_group]\n",
    "    plt.scatter(subset[\"stab.glu\"], subset[\"time.ppn\"], marker = \"o\", s = 80,\n",
    "            facecolors = \"none\", edgecolors = color, lw = 1, label = age_group)\n",
    "    \n",
    "plt.title(\"Stabilized Glucose vs Time.ppn\", fontsize = 30)\n",
    "plt.xlabel(\"stab.glu (mg/dl)\", fontsize = 15)\n",
    "plt.ylabel(\"time.ppn (inches)\", fontsize = 15)\n",
    "\n",
    "# Vertical lines for stab.glu\n",
    "plt.axvline(x = 99, color = \"black\", linestyle = \"--\")\n",
    "plt.axvline(x = 126, color = \"blue\", linestyle = \"-\")\n",
    "\n",
    "# Text annotations for stab.glu levels\n",
    "plt.text(78, 1420, \"Normal \", fontsize = 11, color = \"black\")\n",
    "plt.text(78, 1350, \"x < 99\", fontsize = 11, color = \"black\")\n",
    "plt.text(100, 1420, \"Prediabetes\", fontsize = 11, color = \"black\")\n",
    "plt.text(100, 1350, \"99 < x < 126\", fontsize = 11, color = \"black\")\n",
    "plt.text(130, 1420, \"Diabetes \", fontsize = 11, color = \"blue\")\n",
    "plt.text(130, 1350, \"x > 126\", fontsize = 11, color = \"blue\")\n",
    "\n",
    "# Horizontal lines for time.ppn levels\n",
    "plt.axhline(y = 480, color = \"red\", linestyle = \"--\")\n",
    "\n",
    "# Text annotations for time.ppn levels\n",
    "plt.text(320, 500, \"y > 480 : Standard duration for testing \", fontsize = 11, color = \"red\")\n",
    "\n",
    "# Set tick sizes\n",
    "plt.xticks(fontsize = 15)\n",
    "plt.yticks(fontsize = 15)\n",
    "\n",
    "# Add legend\n",
    "plt.legend(title = \"Age_Group\", fontsize = 12, title_fontsize = \"13\")\n",
    "\n",
    "# Show the plot\n",
    "plt.show()"
   ]
  },
  {
   "cell_type": "markdown",
   "metadata": {},
   "source": [
    "> ### 4-10-13. Stabilized Glucose vs BMI"
   ]
  },
  {
   "cell_type": "code",
   "execution_count": null,
   "metadata": {},
   "outputs": [],
   "source": [
    "# Define colors for each age group\n",
    "colors = {\"Young\": \"#F08650\", \"Adult\": \"#377D22\", \"Elderly\": \"#FF26FA\"}\n",
    "\n",
    "# Create the figure\n",
    "plt.figure(figsize = (15, 5), dpi = 400)\n",
    "\n",
    "# Loop through each age group and plot\n",
    "for age_group, color in colors.items():\n",
    "    subset = Data[Data[\"age_group\"] == age_group]\n",
    "    plt.scatter(subset[\"stab.glu\"], subset[\"BMI\"], marker = \"o\", s = 80,\n",
    "            facecolors = \"none\", edgecolors = color, lw = 1, label = age_group)\n",
    "    \n",
    "plt.title(\"Stabilized Glucose vs BMI\", fontsize = 30)\n",
    "plt.xlabel(\"stab.glu (mg/dl)\", fontsize = 15)\n",
    "plt.ylabel(\"BMI (Number)\", fontsize = 15)\n",
    "\n",
    "# Vertical lines for stab.glu\n",
    "plt.axvline(x = 99, color = \"black\", linestyle = \"--\")\n",
    "plt.axvline(x = 126, color = \"blue\", linestyle = \"-\")\n",
    "\n",
    "# Text annotations for stab.glu levels\n",
    "plt.text(78, 54, \"Normal \", fontsize = 11, color = \"black\")\n",
    "plt.text(78, 52, \"x < 99\", fontsize = 11, color = \"black\")\n",
    "plt.text(100, 52, \"Prediabetes\", fontsize = 11, color = \"black\")\n",
    "plt.text(100, 50, \"99 < x < 126\", fontsize = 11, color = \"black\")\n",
    "plt.text(130, 49, \"Diabetes \", fontsize = 11, color = \"blue\")\n",
    "plt.text(130, 47, \"x > 126\", fontsize = 11, color = \"blue\")\n",
    "\n",
    "# Horizontal lines for BMI levels\n",
    "plt.axhline(y = 18.5, color = \"black\", linestyle = \"--\")\n",
    "plt.axhline(y = 24.9, color = \"black\", linestyle = \"--\")\n",
    "plt.axhline(y = 29.9, color = \"red\", linestyle = \"-\")\n",
    "\n",
    "# Text annotations for BMI levels\n",
    "plt.text(320, 16.5, \"y < 18.5 : Under weight \", fontsize = 11, color = \"black\")\n",
    "plt.text(320, 22.5, \"18.5 < y < 24.9 : Normal weight \", fontsize = 11, color = \"black\")\n",
    "plt.text(320, 28, \"24.9 < y < 29.9 : Over weight \", fontsize = 11, color = \"black\")\n",
    "plt.text(320, 32, \"y > 29.9 : Obesity weight \", fontsize = 11, color = \"red\")\n",
    "\n",
    "\n",
    "# Set tick sizes\n",
    "plt.xticks(fontsize = 15)\n",
    "plt.yticks(fontsize = 15)\n",
    "\n",
    "# Add legend\n",
    "plt.legend(title = \"Age_Group\", fontsize = 12, title_fontsize = \"13\")\n",
    "\n",
    "# Show the plot\n",
    "plt.show()"
   ]
  },
  {
   "cell_type": "markdown",
   "metadata": {},
   "source": [
    "> ### 4-10-14. Stabilized Glucose vs Systolic Blood Pressure"
   ]
  },
  {
   "cell_type": "code",
   "execution_count": null,
   "metadata": {},
   "outputs": [],
   "source": [
    "# Define colors for each age group\n",
    "colors = {\"Young\": \"#F08650\", \"Adult\": \"#377D22\", \"Elderly\": \"#FF26FA\"}\n",
    "\n",
    "# Create the figure\n",
    "plt.figure(figsize = (15, 5), dpi = 400)\n",
    "\n",
    "# Loop through each age group and plot\n",
    "for age_group, color in colors.items():\n",
    "    subset = Data[Data[\"age_group\"] == age_group]\n",
    "    plt.scatter(subset[\"stab.glu\"], subset[\"bp.1s\"], marker = \"o\", s = 80,\n",
    "            facecolors = \"none\", edgecolors = color, lw = 1, label = age_group)\n",
    "    \n",
    "plt.title(\"Stabilized Glucose vs Systolic Blood Pressure\", fontsize = 30)\n",
    "plt.xlabel(\"stab.glu (mg/dl)\", fontsize = 15)\n",
    "plt.ylabel(\"bp.1s (mm Hg)\", fontsize = 15)\n",
    "\n",
    "# Vertical lines for stab.glu\n",
    "plt.axvline(x = 99, color = \"black\", linestyle = \"--\")\n",
    "plt.axvline(x = 126, color = \"blue\", linestyle = \"-\")\n",
    "\n",
    "# Text annotations for stab.glu levels\n",
    "plt.text(78, 240, \"Normal \", fontsize = 11, color = \"black\")\n",
    "plt.text(78, 230, \"x < 99\", fontsize = 11, color = \"black\")\n",
    "plt.text(100, 240, \"Prediabetes\", fontsize = 11, color = \"black\")\n",
    "plt.text(100, 230, \"99 < x < 126\", fontsize = 11, color = \"black\")\n",
    "plt.text(130, 240, \"Diabetes \", fontsize = 11, color = \"blue\")\n",
    "plt.text(130, 230, \"x > 126\", fontsize = 11, color = \"blue\")\n",
    "\n",
    "# Horizontal lines for bp.1s levels\n",
    "plt.axhline(y = 120, color = \"black\", linestyle = \"--\")\n",
    "plt.axhline(y = 130, color = \"black\", linestyle = \"--\")\n",
    "plt.axhline(y = 140, color = \"red\", linestyle = \"-\")\n",
    "\n",
    "# Text annotations for bp.1s levels\n",
    "plt.text(320, 112, \"Normal : y < 120\", fontsize = 11, color = \"black\")\n",
    "plt.text(320, 124, \"Elevated : 120 < y < 130\", fontsize = 11, color = \"black\")\n",
    "plt.text(320, 134, \"Hypertension : 130 < y < 140\", fontsize = 11, color = \"black\")\n",
    "plt.text(320, 148, \"emergency care : y > 140\", fontsize = 11, color = \"red\")\n",
    "\n",
    "# Set tick sizes\n",
    "plt.xticks(fontsize = 15)\n",
    "plt.yticks(fontsize = 15)\n",
    "\n",
    "# Add legend\n",
    "plt.legend(title = \"Age_Group\", fontsize = 12, title_fontsize = \"13\")\n",
    "\n",
    "# Show the plot\n",
    "plt.show()"
   ]
  },
  {
   "cell_type": "markdown",
   "metadata": {},
   "source": [
    "> ### 4-10-15. Stabilized Glucose vs Diastolic Blood Pressure"
   ]
  },
  {
   "cell_type": "code",
   "execution_count": null,
   "metadata": {},
   "outputs": [],
   "source": [
    "# Define colors for each age group\n",
    "colors = {\"Young\": \"#F08650\", \"Adult\": \"#377D22\", \"Elderly\": \"#FF26FA\"}\n",
    "\n",
    "# Create the figure\n",
    "plt.figure(figsize = (15, 5), dpi = 400)\n",
    "\n",
    "# Loop through each age group and plot\n",
    "for age_group, color in colors.items():\n",
    "    subset = Data[Data[\"age_group\"] == age_group]\n",
    "    plt.scatter(subset[\"stab.glu\"], subset[\"bp.1d\"], marker = \"o\", s = 80,\n",
    "            facecolors = \"none\", edgecolors = color, lw = 1, label = age_group)\n",
    "    \n",
    "plt.title(\"Stabilized Glucose vs Diastolic Blood Pressure\", fontsize = 30)\n",
    "plt.xlabel(\"stab.glu (mg/dl)\", fontsize = 15)\n",
    "plt.ylabel(\"bp.1d (mm Hg)\", fontsize = 15)\n",
    "\n",
    "# Vertical lines for stab.glu\n",
    "plt.axvline(x = 99, color = \"black\", linestyle = \"--\")\n",
    "plt.axvline(x = 126, color = \"blue\", linestyle = \"-\")\n",
    "\n",
    "# Text annotations for stab.glu levels\n",
    "plt.text(78, 125, \"Normal \", fontsize = 11, color = \"black\")\n",
    "plt.text(78, 122, \"x < 99\", fontsize = 11, color = \"black\")\n",
    "plt.text(100, 125, \"Prediabetes\", fontsize = 11, color = \"black\")\n",
    "plt.text(100, 122, \"99 < x < 126\", fontsize = 11, color = \"black\")\n",
    "plt.text(130, 125, \"Diabetes \", fontsize = 11, color = \"blue\")\n",
    "plt.text(130, 122, \"x > 126\", fontsize = 11, color = \"blue\")\n",
    "\n",
    "# Horizontal lines for bp.1d levels\n",
    "plt.axhline(y = 80, color = \"black\", linestyle = \"--\")\n",
    "plt.axhline(y = 89, color = \"black\", linestyle = \"--\")\n",
    "plt.axhline(y = 99, color = \"red\", linestyle = \"-\")\n",
    "\n",
    "# Text annotations for bp.1d levels\n",
    "plt.text(320, 70, \"Normal : y < 80\", fontsize = 11, color = \"black\")\n",
    "plt.text(320, 84, \"Elevated : 80 < y < 89\", fontsize = 11, color = \"black\")\n",
    "plt.text(320, 94, \"Hypertension : 89 < y < 99\", fontsize = 11, color = \"black\")\n",
    "plt.text(320, 104, \"emergency care : y > 99\", fontsize = 11, color = \"red\")\n",
    "\n",
    "# Set tick sizes\n",
    "plt.xticks(fontsize = 15)\n",
    "plt.yticks(fontsize = 15)\n",
    "\n",
    "# Add legend\n",
    "plt.legend(title = \"Age_Group\", fontsize = 12, title_fontsize = \"13\")\n",
    "\n",
    "# Show the plot\n",
    "plt.show()"
   ]
  },
  {
   "cell_type": "markdown",
   "metadata": {},
   "source": [
    "> ### 4-10-16. Cholesterol vs Waist"
   ]
  },
  {
   "cell_type": "code",
   "execution_count": null,
   "metadata": {},
   "outputs": [],
   "source": [
    "# Define colors for each age group\n",
    "colors = {\"Young\": \"#F08650\", \"Adult\": \"#377D22\", \"Elderly\": \"#FF26FA\"}\n",
    "\n",
    "# Create the figure\n",
    "plt.figure(figsize = (15, 5), dpi = 400)\n",
    "\n",
    "# Loop through each age group and plot\n",
    "for age_group, color in colors.items():\n",
    "    subset = Data[Data[\"age_group\"] == age_group]\n",
    "    plt.scatter(subset[\"chol\"], subset[\"waist\"], marker = \"o\", s = 80,\n",
    "            facecolors = \"none\", edgecolors = color, lw = 1, label = age_group)\n",
    "    \n",
    "plt.title(\"Cholesterol vs Waist\", fontsize = 30)\n",
    "plt.xlabel(\"chol (mg/dl)\", fontsize = 15)\n",
    "plt.ylabel(\"waist (inches)\", fontsize = 15)\n",
    "\n",
    "# Vertical lines for Cols\n",
    "plt.axvline(x = 199, color = \"black\", linestyle = \"--\")\n",
    "plt.axvline(x = 239, color = \"blue\", linestyle = \"-\")\n",
    "\n",
    "# Text annotations for chol levels\n",
    "plt.text(178, 55, \"Desirable  \", fontsize = 11, color = \"black\")\n",
    "plt.text(178, 53, \"x < 199\", fontsize = 11, color = \"black\")\n",
    "plt.text(205, 55, \"Borderline \", fontsize = 11, color = \"black\")\n",
    "plt.text(205, 53, \"199 < x < 239\", fontsize = 11, color = \"black\")\n",
    "plt.text(245, 55, \"High  \", fontsize = 11, color = \"blue\")\n",
    "plt.text(245, 53, \"x > 239\", fontsize = 11, color = \"blue\")\n",
    "\n",
    "# Horizontal lines for waist levels\n",
    "plt.axhline(y = 35, color = \"red\", linestyle = \"--\")\n",
    "plt.axhline(y = 40, color = \"red\", linestyle = \"--\")\n",
    "\n",
    "# Text annotations for waist levels\n",
    "plt.text(380, 36, \"y > 35 : high risk for womens \", fontsize = 11, color = \"red\")\n",
    "plt.text(380, 41, \"y > 40 : high risk for mens\", fontsize = 11, color = \"red\")\n",
    "\n",
    "# Set tick sizes\n",
    "plt.xticks(fontsize = 15)\n",
    "plt.yticks(fontsize = 15)\n",
    "\n",
    "# Add legend\n",
    "plt.legend(title = \"Age_Group\", fontsize = 12, title_fontsize = \"13\")\n",
    "\n",
    "# Show the plot\n",
    "plt.show()"
   ]
  },
  {
   "cell_type": "markdown",
   "metadata": {},
   "source": [
    "> ### 4-10-17. Hemoglobin A1c vs High-Density Lipoprotein"
   ]
  },
  {
   "cell_type": "code",
   "execution_count": null,
   "metadata": {},
   "outputs": [],
   "source": [
    "# Define colors for each age group\n",
    "colors = {\"Young\": \"#F08650\", \"Adult\": \"#377D22\", \"Elderly\": \"#FF26FA\"}\n",
    "\n",
    "# Create the figure\n",
    "plt.figure(figsize = (15, 5), dpi = 400)\n",
    "\n",
    "# Loop through each age group and plot\n",
    "for age_group, color in colors.items():\n",
    "    subset = Data[Data[\"age_group\"] == age_group]\n",
    "    plt.scatter(subset[\"glyhb\"], subset[\"hdl\"], marker = \"o\", s = 80,\n",
    "            facecolors = \"none\", edgecolors = color, lw =  1, label = age_group)\n",
    "    \n",
    "plt.title(\"Hemoglobin A1c vs High-Density Lipoprotein\", fontsize = 30)\n",
    "plt.xlabel(\"glyhb (%)\", fontsize = 15)\n",
    "plt.ylabel(\"hdl (mg/dl)\", fontsize = 15)\n",
    "\n",
    "# Vertical lines for glyhb\n",
    "plt.axvline(x = 5.7, color = \"black\", linestyle = \"--\")\n",
    "plt.axvline(x = 6.4, color = \"blue\", linestyle = \"-\")\n",
    "\n",
    "# Text annotations for glyhb levels\n",
    "plt.text(5, 110, \"Normal \", fontsize = 11, color = \"black\")\n",
    "plt.text(5, 105, \"x < 5.7\", fontsize = 11, color = \"black\")\n",
    "plt.text(5.8, 105, \"Prediabetes \", fontsize = 11, color = \"black\")\n",
    "plt.text(5.8, 100, \"5.7 < x < 6.4\", fontsize = 11, color = \"black\")\n",
    "plt.text(6.5, 95, \"Diabetes\", fontsize = 11, color = \"blue\")\n",
    "plt.text(6.5, 90, \"x > 6.4\", fontsize = 11, color = \"blue\")\n",
    "\n",
    "# Horizontal lines for hdl levels\n",
    "plt.axhline(y = 39, color = \"black\", linestyle = \"--\")\n",
    "plt.axhline(y = 59, color = \"red\", linestyle = \"-\")\n",
    "\n",
    "# Text annotations for hdl levels\n",
    "plt.text(15, 34, \"y < 39 : Low   \", fontsize = 11, color = \"black\")\n",
    "plt.text(15, 48, \"39 < y < 59 : Acceptable  \", fontsize = 11, color = \"black\")\n",
    "plt.text(15, 63, \"y > 59 : Good   \", fontsize = 11, color = \"red\")\n",
    "\n",
    "# Set tick sizes\n",
    "plt.xticks(fontsize = 15)\n",
    "plt.yticks(fontsize = 15)\n",
    "\n",
    "# Add legend\n",
    "plt.legend(title = \"Age_Group\", fontsize = 12, title_fontsize = \"13\")\n",
    "\n",
    "# Show the plot\n",
    "plt.show()"
   ]
  },
  {
   "cell_type": "markdown",
   "metadata": {},
   "source": [
    "> ### 4-10-18. Stabilized Glucose vs High-Density Lipoprotein"
   ]
  },
  {
   "cell_type": "code",
   "execution_count": null,
   "metadata": {},
   "outputs": [],
   "source": [
    "# Define colors for each age group\n",
    "colors = {\"Young\": \"#F08650\", \"Adult\": \"#377D22\", \"Elderly\": \"#FF26FA\"}\n",
    "\n",
    "# Create the figure\n",
    "plt.figure(figsize = (15, 5), dpi = 400)\n",
    "\n",
    "# Loop through each age group and plot\n",
    "for age_group, color in colors.items():\n",
    "    subset = Data[Data[\"age_group\"] == age_group]\n",
    "    plt.scatter(subset[\"stab.glu\"], subset[\"hdl\"], marker = \"o\", s = 80,\n",
    "            facecolors = \"none\", edgecolors = color, lw = 1, label = age_group)\n",
    "    \n",
    "plt.title(\"Stabilized Glucose vs High-Density Lipoprotein\", fontsize = 30)\n",
    "plt.xlabel(\"stab.glu (mg/dl)\", fontsize = 15)\n",
    "plt.ylabel(\"hdl (mg/dl)\", fontsize = 15)\n",
    "\n",
    "# Vertical lines for stab.glu\n",
    "plt.axvline(x = 99, color = \"black\", linestyle = \"--\")\n",
    "plt.axvline(x = 126, color = \"blue\", linestyle = \"-\")\n",
    "\n",
    "# Text annotations for stab.glu levels\n",
    "plt.text(78, 110, \"Normal \", fontsize = 11, color = \"black\")\n",
    "plt.text(78, 105, \"x < 99\", fontsize = 11, color = \"black\")\n",
    "plt.text(100, 105, \"Prediabetes\", fontsize = 11, color = \"black\")\n",
    "plt.text(100, 100, \"99 < x < 126\", fontsize = 11, color = \"black\")\n",
    "plt.text(130, 95, \"Diabetes\", fontsize = 11, color = \"blue\")\n",
    "plt.text(130, 90, \"x > 126\", fontsize = 11, color = \"blue\")\n",
    "\n",
    "# Horizontal lines for hdl levels\n",
    "plt.axhline(y = 39, color = \"black\", linestyle = \"--\")\n",
    "plt.axhline(y = 59, color = \"red\", linestyle = \"-\")\n",
    "\n",
    "# Text annotations for hdl levels\n",
    "plt.text(320, 34, \"y < 39 : Low   \", fontsize = 11, color = \"black\")\n",
    "plt.text(320, 48, \"39 < y < 59 : Acceptable\", fontsize = 11, color = \"black\")\n",
    "plt.text(320, 63, \"y > 59 : Good   \", fontsize = 11, color = \"red\")\n",
    " \n",
    "# Set tick sizes\n",
    "plt.xticks(fontsize = 15)\n",
    "plt.yticks(fontsize = 15)\n",
    "\n",
    "# Add legend\n",
    "plt.legend(title = \"Age_Group\", fontsize = 12, title_fontsize = \"13\")\n",
    "\n",
    "# Show the plot\n",
    "plt.show()"
   ]
  },
  {
   "cell_type": "markdown",
   "metadata": {},
   "source": [
    "> # 5. Machine Learning"
   ]
  },
  {
   "cell_type": "code",
   "execution_count": null,
   "metadata": {},
   "outputs": [],
   "source": [
    "Data.dtypes"
   ]
  },
  {
   "cell_type": "markdown",
   "metadata": {},
   "source": [
    "> ### 5-1. Convert category and object variables"
   ]
  },
  {
   "cell_type": "code",
   "execution_count": null,
   "metadata": {},
   "outputs": [],
   "source": [
    "LE = LabelEncoder()\n",
    "Data[\"gender\"] = LE.fit_transform(Data[\"gender\"])\n",
    "Data[\"Diabetes_Status\"] = LE.fit_transform(Data[\"Diabetes_Status\"])\n",
    "Data[\"age_group\"] = Data[\"age_group\"].cat.codes"
   ]
  },
  {
   "cell_type": "markdown",
   "metadata": {},
   "source": [
    "> ### 5-2. Spliting"
   ]
  },
  {
   "cell_type": "code",
   "execution_count": null,
   "metadata": {},
   "outputs": [],
   "source": [
    "X = Data.drop(columns = [\"Diabetes_Status\"])  # Feature variables\n",
    "y = Data[\"Diabetes_Status\"]                   # Target variable\n",
    "X_train, X_test, y_train, y_test = train_test_split(X, y, test_size = 0.2,random_state = 42, stratify = y)"
   ]
  },
  {
   "cell_type": "markdown",
   "metadata": {},
   "source": [
    "> ### 5-3. Standardization and normalization"
   ]
  },
  {
   "cell_type": "markdown",
   "metadata": {},
   "source": [
    "> ### 5-3-1. Models of standardization"
   ]
  },
  {
   "cell_type": "code",
   "execution_count": null,
   "metadata": {},
   "outputs": [],
   "source": [
    "scaler_standard = StandardScaler()\n",
    "X_train = scaler_standard.fit_transform(X_train)\n",
    "X_test = scaler_standard.fit_transform(X_test)\n"
   ]
  },
  {
   "cell_type": "markdown",
   "metadata": {},
   "source": [
    "> ### 5-3-1-1. Logistic Regression"
   ]
  },
  {
   "cell_type": "code",
   "execution_count": null,
   "metadata": {},
   "outputs": [],
   "source": [
    "from sklearn.linear_model import LogisticRegression\n",
    "\n",
    "LR = LogisticRegression(max_iter = 2000, random_state = 24)\n",
    "\n",
    "LR.fit(X_train, y_train)\n",
    "\n",
    "y_pred_LR = LR.predict(X_test)\n",
    "acc_LR = accuracy_score(y_test, y_pred_LR)\n",
    "\n",
    "print(classification_report(y_test, y_pred_LR, zero_division = 0))\n",
    "print(\"Accuracy Score is : {:.2f}%\".format(acc_LR * 100))"
   ]
  },
  {
   "cell_type": "markdown",
   "metadata": {},
   "source": [
    "> ### 5-3-1-2. Support Vector Machines (SVM)"
   ]
  },
  {
   "cell_type": "code",
   "execution_count": null,
   "metadata": {},
   "outputs": [],
   "source": [
    "from sklearn.svm import SVC\n",
    "\n",
    "SVM = SVC(max_iter = 2000, random_state = 24)\n",
    "\n",
    "SVM.fit(X_train, y_train)\n",
    "\n",
    "y_pred_SVM = SVM.predict(X_test)\n",
    "acc_SVM = accuracy_score(y_test, y_pred_SVM)\n",
    "\n",
    "print(classification_report(y_test, y_pred_SVM, zero_division = 0))\n",
    "print(\"Accuracy Score is : {:.2f}%\".format(acc_SVM * 100))"
   ]
  },
  {
   "cell_type": "markdown",
   "metadata": {},
   "source": [
    "> ### 5-3-1-3. K-Nearest Neighbors (KNN)"
   ]
  },
  {
   "cell_type": "code",
   "execution_count": null,
   "metadata": {},
   "outputs": [],
   "source": [
    "from sklearn.neighbors import KNeighborsClassifier\n",
    "\n",
    "KNN = KNeighborsClassifier()\n",
    "\n",
    "KNN.fit(X_train, y_train)\n",
    "\n",
    "y_pred_KNN = KNN.predict(X_test)\n",
    "acc_KNN = accuracy_score(y_test, y_pred_KNN)\n",
    "\n",
    "print(classification_report(y_test, y_pred_KNN, zero_division = 0))\n",
    "print(\"Accuracy Score is : {:.2f}%\".format(acc_KNN * 100))"
   ]
  },
  {
   "cell_type": "markdown",
   "metadata": {},
   "source": [
    "> ### 5-3-1-4. Gradient Boosting Machines (GBM)"
   ]
  },
  {
   "cell_type": "code",
   "execution_count": null,
   "metadata": {},
   "outputs": [],
   "source": [
    "from sklearn.ensemble import GradientBoostingClassifier\n",
    "\n",
    "GBM = GradientBoostingClassifier(random_state = 24)\n",
    "\n",
    "GBM.fit(X_train, y_train)\n",
    "\n",
    "y_pred_GBM = GBM.predict(X_test)\n",
    "acc_GBM = accuracy_score(y_test, y_pred_GBM)\n",
    "\n",
    "print(classification_report(y_test, y_pred_GBM, zero_division = 0))\n",
    "print(\"Accuracy Score is : {:.2f}%\".format(acc_GBM * 100))"
   ]
  },
  {
   "cell_type": "markdown",
   "metadata": {},
   "source": [
    "> ### 5-3-1-5. Random Forest Classifier"
   ]
  },
  {
   "cell_type": "code",
   "execution_count": null,
   "metadata": {},
   "outputs": [],
   "source": [
    "from sklearn.ensemble import RandomForestClassifier\n",
    "\n",
    "RFC = RandomForestClassifier(max_depth = 2000 , random_state = 24)\n",
    "\n",
    "RFC.fit(X_train, y_train)\n",
    "\n",
    "y_pred_RFC = RFC.predict(X_test)\n",
    "acc_RFC = accuracy_score(y_test, y_pred_RFC)\n",
    "\n",
    "print(classification_report(y_test, y_pred_RFC, zero_division = 0))\n",
    "print(\"Accuracy Score is : {:.2f}%\".format(acc_RFC * 100))"
   ]
  },
  {
   "cell_type": "markdown",
   "metadata": {},
   "source": [
    "> ### 5-3-1-6. Neural Networks (Multi-Layer Perceptron)"
   ]
  },
  {
   "cell_type": "code",
   "execution_count": null,
   "metadata": {},
   "outputs": [],
   "source": [
    "from sklearn.neural_network import MLPClassifier\n",
    "\n",
    "MLP = MLPClassifier(max_iter = 2000,random_state = 24)\n",
    "\n",
    "MLP.fit(X_train, y_train)\n",
    "\n",
    "y_pred_MLP = MLP.predict(X_test)\n",
    "acc_MLP = accuracy_score(y_test, y_pred_MLP)\n",
    "\n",
    "print(classification_report(y_test, y_pred_MLP, zero_division = 0))\n",
    "print(\"Accuracy Score is : {:.2f}%\".format(acc_MLP * 100))"
   ]
  },
  {
   "cell_type": "markdown",
   "metadata": {},
   "source": [
    "> ### 5-3-1-7. Extra Trees Classifier"
   ]
  },
  {
   "cell_type": "code",
   "execution_count": null,
   "metadata": {},
   "outputs": [],
   "source": [
    "from sklearn.ensemble import ExtraTreesClassifier\n",
    "\n",
    "ETC = ExtraTreesClassifier(max_depth = 2000, random_state = 24)\n",
    "\n",
    "ETC.fit(X_train, y_train)\n",
    "\n",
    "y_pred_ETC = ETC.predict(X_test)\n",
    "acc_ETC = accuracy_score(y_test, y_pred_ETC)\n",
    "\n",
    "print(classification_report(y_test, y_pred_ETC, zero_division = 0))\n",
    "print(\"Accuracy Score is : {:.2f}%\".format(acc_ETC * 100))"
   ]
  },
  {
   "cell_type": "markdown",
   "metadata": {},
   "source": [
    "> ### 5-3-1-8. Decision Trees"
   ]
  },
  {
   "cell_type": "code",
   "execution_count": null,
   "metadata": {},
   "outputs": [],
   "source": [
    "from sklearn.tree import DecisionTreeClassifier\n",
    "\n",
    "DT = DecisionTreeClassifier(random_state = 24)\n",
    "\n",
    "DT.fit(X_train, y_train)\n",
    "\n",
    "y_pred_DT = DT.predict(X_test)\n",
    "acc_DT = accuracy_score(y_test, y_pred_DT)\n",
    "\n",
    "print(classification_report(y_test, y_pred_DT, zero_division = 0))\n",
    "print(\"Accuracy Score is : {:.2f}%\".format(acc_DT * 100))"
   ]
  },
  {
   "cell_type": "markdown",
   "metadata": {},
   "source": [
    "> ### 5-3-1-9. Confusion Matrix for all models"
   ]
  },
  {
   "cell_type": "code",
   "execution_count": null,
   "metadata": {},
   "outputs": [],
   "source": [
    "# Create subplots for confusion matrices\n",
    "fig, axes = plt.subplots(4, 2, figsize = (12, 12))  # 4 rows, 2 columns\n",
    "\n",
    "# Confusion Matrix for Logistic Regression\n",
    "sns.heatmap(confusion_matrix(y_test, y_pred_LR), annot = True, fmt = \"d\", cmap = \"Blues\", ax = axes[0, 0])\n",
    "axes[0, 0].set_title(\"Confusion Matrix - LR\")\n",
    "axes[0, 0].set_xlabel(\"Predicted\")\n",
    "axes[0, 0].set_ylabel(\"Actual\")\n",
    "\n",
    "# Confusion Matrix for SVM\n",
    "sns.heatmap(confusion_matrix(y_test, y_pred_SVM), annot = True, fmt = \"d\", cmap = \"Greens\", ax = axes[0, 1])\n",
    "axes[0, 1].set_title(\"Confusion Matrix - SVM\")\n",
    "axes[0, 1].set_xlabel(\"Predicted\")\n",
    "axes[0, 1].set_ylabel(\"Actual\")\n",
    "\n",
    "# Confusion Matrix for KNN\n",
    "sns.heatmap(confusion_matrix(y_test, y_pred_KNN), annot = True, fmt = \"d\", cmap = \"Blues\", ax = axes[1, 0])\n",
    "axes[1, 0].set_title(\"Confusion Matrix - KNN\")\n",
    "axes[1, 0].set_xlabel(\"Predicted\")\n",
    "axes[1, 0].set_ylabel(\"Actual\")\n",
    "\n",
    "# Confusion Matrix for GBM\n",
    "sns.heatmap(confusion_matrix(y_test, y_pred_GBM), annot = True, fmt = \"d\", cmap = \"Greens\", ax = axes[1, 1])\n",
    "axes[1, 1].set_title(\"Confusion Matrix - GBM\")\n",
    "axes[1, 1].set_xlabel(\"Predicted\")\n",
    "axes[1, 1].set_ylabel(\"Actual\")\n",
    "\n",
    "# Confusion Matrix for RFC\n",
    "sns.heatmap(confusion_matrix(y_test, y_pred_RFC), annot = True, fmt = \"d\", cmap = \"Blues\", ax = axes[2, 0])\n",
    "axes[2, 0].set_title(\"Confusion Matrix - RFC\")\n",
    "axes[2, 0].set_xlabel(\"Predicted\")\n",
    "axes[2, 0].set_ylabel(\"Actual\")\n",
    "\n",
    "# Confusion Matrix for MLP\n",
    "sns.heatmap(confusion_matrix(y_test, y_pred_MLP), annot = True, fmt = \"d\", cmap = \"Greens\", ax = axes[2, 1])\n",
    "axes[2, 1].set_title(\"Confusion Matrix - MLP\")\n",
    "axes[2, 1].set_xlabel(\"Predicted\")\n",
    "axes[2, 1].set_ylabel(\"Actual\")\n",
    "\n",
    "# Confusion Matrix for ETC\n",
    "sns.heatmap(confusion_matrix(y_test, y_pred_ETC), annot = True, fmt = \"d\", cmap = \"Blues\", ax = axes[3, 0])\n",
    "axes[3, 0].set_title(\"Confusion Matrix - ETC\")\n",
    "axes[3, 0].set_xlabel(\"Predicted\")\n",
    "axes[3, 0].set_ylabel(\"Actual\")\n",
    "\n",
    "# Confusion Matrix for DT\n",
    "sns.heatmap(confusion_matrix(y_test, y_pred_DT), annot = True, fmt = \"d\", cmap = \"Greens\", ax = axes[3, 1])\n",
    "axes[3,1].set_title(\"Confusion Matrix - DT\")\n",
    "axes[3,1].set_xlabel(\"Predicted\")\n",
    "axes[3,1].set_ylabel(\"Actual\")\n",
    "\n",
    "# Adjust layout\n",
    "plt.tight_layout()\n",
    "plt.show()"
   ]
  },
  {
   "cell_type": "markdown",
   "metadata": {},
   "source": [
    "> ### 5-3-1-10. Conclusion\n",
    "> In standard data, as it's clear, Random Forest Classifier predict more TP for each class (Diabetes Status) and had higher accuracy."
   ]
  },
  {
   "cell_type": "markdown",
   "metadata": {},
   "source": [
    ">"
   ]
  },
  {
   "cell_type": "markdown",
   "metadata": {},
   "source": [
    "> ### 5-3-2. Models of Normalization"
   ]
  },
  {
   "cell_type": "code",
   "execution_count": null,
   "metadata": {},
   "outputs": [],
   "source": [
    "scaler_normal = MinMaxScaler()\n",
    "X_train = scaler_normal.fit_transform(X_train)\n",
    "X_test = scaler_normal.fit_transform(X_test)"
   ]
  },
  {
   "cell_type": "markdown",
   "metadata": {},
   "source": [
    "> ### 5-3-2-1. Logistic Regression"
   ]
  },
  {
   "cell_type": "code",
   "execution_count": null,
   "metadata": {},
   "outputs": [],
   "source": [
    "from sklearn.linear_model import LogisticRegression\n",
    "\n",
    "LR2 = LogisticRegression(max_iter = 2000)\n",
    "\n",
    "LR2.fit(X_train, y_train)\n",
    "\n",
    "y_pred_LR2 = LR2.predict(X_test)\n",
    "acc_LR2 = accuracy_score(y_test, y_pred_LR2)\n",
    "\n",
    "print(classification_report(y_test, y_pred_LR2, zero_division = 0))\n",
    "print(\"Accuracy Score is : {:.2f}%\".format(acc_LR2 * 100))"
   ]
  },
  {
   "cell_type": "markdown",
   "metadata": {},
   "source": [
    "> ### 5-3-2-2. Support Vector Machines (SVM)"
   ]
  },
  {
   "cell_type": "code",
   "execution_count": null,
   "metadata": {},
   "outputs": [],
   "source": [
    "from sklearn.svm import SVC\n",
    "\n",
    "model_SVM2 = SVC(max_iter = 2000)\n",
    "\n",
    "model_SVM2.fit(X_train, y_train)\n",
    "\n",
    "y_pred_SVM2 = model_SVM2.predict(X_test)\n",
    "acc_SVM2 = accuracy_score(y_test, y_pred_SVM2)\n",
    "\n",
    "print(classification_report(y_test, y_pred_SVM2, zero_division = 0))\n",
    "print(\"Accuracy Score is : {:.2f}%\".format(acc_SVM2 * 100))"
   ]
  },
  {
   "cell_type": "markdown",
   "metadata": {},
   "source": [
    "> ### 5-3-2-3. K-Nearest Neighbors (KNN)"
   ]
  },
  {
   "cell_type": "code",
   "execution_count": null,
   "metadata": {},
   "outputs": [],
   "source": [
    "from sklearn.neighbors import KNeighborsClassifier\n",
    "\n",
    "model_KNN2 = KNeighborsClassifier()\n",
    "\n",
    "model_KNN2.fit(X_train, y_train)\n",
    "\n",
    "y_pred_KNN2 = model_KNN2.predict(X_test)\n",
    "acc_KNN2 = accuracy_score(y_test, y_pred_KNN2)\n",
    "\n",
    "print(classification_report(y_test, y_pred_KNN2, zero_division = 0))\n",
    "print(\"Accuracy Score is : {:.2f}%\".format(acc_KNN2 * 100))"
   ]
  },
  {
   "cell_type": "markdown",
   "metadata": {},
   "source": [
    "> ### 5-3-2-4. Gradient Boosting Machines (GBM)"
   ]
  },
  {
   "cell_type": "code",
   "execution_count": null,
   "metadata": {},
   "outputs": [],
   "source": [
    "from sklearn.ensemble import GradientBoostingClassifier\n",
    "\n",
    "model_GBM2 = GradientBoostingClassifier()\n",
    "\n",
    "model_GBM2.fit(X_train, y_train)\n",
    "\n",
    "y_pred_GBM2 = model_GBM2.predict(X_test)\n",
    "acc_GBM2 = accuracy_score(y_test, y_pred_GBM2)\n",
    "\n",
    "print(classification_report(y_test, y_pred_GBM2, zero_division = 0))\n",
    "print(\"Accuracy Score is : {:.2f}%\".format(acc_GBM2 * 100))"
   ]
  },
  {
   "cell_type": "markdown",
   "metadata": {},
   "source": [
    "> ### 5-3-2-5. Random Forest Classifier"
   ]
  },
  {
   "cell_type": "code",
   "execution_count": null,
   "metadata": {},
   "outputs": [],
   "source": [
    "from sklearn.ensemble import RandomForestClassifier\n",
    "\n",
    "model_RFC2 = RandomForestClassifier()\n",
    "\n",
    "model_RFC2.fit(X_train, y_train)\n",
    "\n",
    "y_pred_RFC2 = model_RFC2.predict(X_test)\n",
    "acc_RFC2 = accuracy_score(y_test, y_pred_RFC2)\n",
    "\n",
    "print(classification_report(y_test, y_pred_RFC2, zero_division = 0))\n",
    "print(\"Accuracy Score is : {:.2f}%\".format(acc_RFC2 * 100))"
   ]
  },
  {
   "cell_type": "markdown",
   "metadata": {},
   "source": [
    "> ### 5-3-2-6. Neural Networks (Multi-Layer Perceptron)"
   ]
  },
  {
   "cell_type": "code",
   "execution_count": null,
   "metadata": {},
   "outputs": [],
   "source": [
    "from sklearn.neural_network import MLPClassifier\n",
    "\n",
    "model_MLP2 = MLPClassifier(max_iter = 2000)\n",
    "\n",
    "model_MLP2.fit(X_train, y_train)\n",
    "\n",
    "y_pred_MLP2 = model_MLP2.predict(X_test)\n",
    "acc_MLP2 = accuracy_score(y_test, y_pred_MLP2)\n",
    "\n",
    "print(classification_report(y_test, y_pred_MLP2, zero_division = 0))\n",
    "print(\"Accuracy Score is : {:.2f}%\".format(acc_MLP2 * 100)) "
   ]
  },
  {
   "cell_type": "markdown",
   "metadata": {},
   "source": [
    "> ### 5-3-2-7. Extra Trees Classifier"
   ]
  },
  {
   "cell_type": "code",
   "execution_count": null,
   "metadata": {},
   "outputs": [],
   "source": [
    "from sklearn.ensemble import ExtraTreesClassifier\n",
    "\n",
    "model_ETC2 = ExtraTreesClassifier()\n",
    "\n",
    "model_ETC2.fit(X_train, y_train)\n",
    "\n",
    "y_pred_ETC2 = model_ETC2.predict(X_test)\n",
    "acc_ETC2 = accuracy_score(y_test, y_pred_ETC2)\n",
    "\n",
    "print(classification_report(y_test, y_pred_ETC2, zero_division = 0))\n",
    "print(\"Accuracy Score is : {:.2f}%\".format(acc_ETC2 * 100))"
   ]
  },
  {
   "cell_type": "markdown",
   "metadata": {},
   "source": [
    "> ### 5-3-2-8. Decision Trees"
   ]
  },
  {
   "cell_type": "code",
   "execution_count": null,
   "metadata": {},
   "outputs": [],
   "source": [
    "from sklearn.tree import DecisionTreeClassifier\n",
    "\n",
    "model_DT2 = DecisionTreeClassifier()\n",
    "\n",
    "model_DT2.fit(X_train, y_train)\n",
    "\n",
    "y_pred_DT2 = model_DT2.predict(X_test)\n",
    "acc_DT2 = accuracy_score(y_test, y_pred_DT2)\n",
    "\n",
    "print(classification_report(y_test, y_pred_DT2, zero_division = 0))\n",
    "print(\"Accuracy Score is : {:.2f}%\".format(acc_DT2 * 100))"
   ]
  },
  {
   "cell_type": "markdown",
   "metadata": {},
   "source": [
    "> ### 5-3-2-9. Confusion Matrix for all models"
   ]
  },
  {
   "cell_type": "code",
   "execution_count": null,
   "metadata": {},
   "outputs": [],
   "source": [
    "# Create subplots for confusion matrices\n",
    "fig, axes = plt.subplots(4, 2, figsize = (12, 12))  # 4 rows, 2 columns\n",
    "\n",
    "# Confusion Matrix for Logistic Regression2\n",
    "sns.heatmap(confusion_matrix(y_test, y_pred_LR2), annot = True, fmt = \"d\", cmap = \"Blues\", ax = axes[0, 0])\n",
    "axes[0, 0].set_title(\"Confusion Matrix - LR2\")\n",
    "axes[0, 0].set_xlabel(\"Predicted\")\n",
    "axes[0, 0].set_ylabel(\"Actual\")\n",
    "\n",
    "# Confusion Matrix for SVM2\n",
    "sns.heatmap(confusion_matrix(y_test, y_pred_SVM2), annot = True, fmt = \"d\", cmap = \"Greens\", ax = axes[0, 1])\n",
    "axes[0, 1].set_title(\"Confusion Matrix - SVM2\")\n",
    "axes[0, 1].set_xlabel(\"Predicted\")\n",
    "axes[0, 1].set_ylabel(\"Actual\")\n",
    "\n",
    "# Confusion Matrix for KNN2\n",
    "sns.heatmap(confusion_matrix(y_test, y_pred_KNN2), annot = True, fmt = \"d\", cmap = \"Blues\", ax = axes[1, 0])\n",
    "axes[1, 0].set_title(\"Confusion Matrix - KNN2\")\n",
    "axes[1, 0].set_xlabel(\"Predicted\")\n",
    "axes[1, 0].set_ylabel(\"Actual\")\n",
    "\n",
    "# Confusion Matrix for GBM2\n",
    "sns.heatmap(confusion_matrix(y_test, y_pred_GBM2), annot = True, fmt = \"d\", cmap = \"Greens\", ax = axes[1, 1])\n",
    "axes[1, 1].set_title(\"Confusion Matrix - GBM2\")\n",
    "axes[1, 1].set_xlabel(\"Predicted\")\n",
    "axes[1, 1].set_ylabel(\"Actual\")\n",
    "\n",
    "# Confusion Matrix for RFC2\n",
    "sns.heatmap(confusion_matrix(y_test, y_pred_RFC2), annot = True, fmt = \"d\", cmap = \"Blues\", ax = axes[2, 0])\n",
    "axes[2, 0].set_title(\"Confusion Matrix - RFC2\")\n",
    "axes[2, 0].set_xlabel(\"Predicted\")\n",
    "axes[2, 0].set_ylabel(\"Actual\")\n",
    "\n",
    "# Confusion Matrix for MLP2\n",
    "sns.heatmap(confusion_matrix(y_test, y_pred_MLP2), annot = True, fmt = \"d\", cmap = \"Greens\", ax = axes[2, 1])\n",
    "axes[2, 1].set_title(\"Confusion Matrix - MLP2\")\n",
    "axes[2, 1].set_xlabel(\"Predicted\")\n",
    "axes[2, 1].set_ylabel(\"Actual\")\n",
    "\n",
    "# Confusion Matrix for ETC2\n",
    "sns.heatmap(confusion_matrix(y_test, y_pred_ETC2), annot = True, fmt = \"d\", cmap = \"Blues\", ax = axes[3, 0])\n",
    "axes[3, 0].set_title(\"Confusion Matrix - ETC2\")\n",
    "axes[3, 0].set_xlabel(\"Predicted\")\n",
    "axes[3, 0].set_ylabel(\"Actual\")\n",
    "\n",
    "# Confusion Matrix for DT2\n",
    "sns.heatmap(confusion_matrix(y_test, y_pred_DT2), annot = True, fmt = \"d\", cmap = \"Greens\", ax = axes[3,1])\n",
    "axes[3,1].set_title(\"Confusion Matrix - DT2\")\n",
    "axes[3,1].set_xlabel(\"Predicted\")\n",
    "axes[3,1].set_ylabel(\"Actual\")\n",
    "\n",
    "# Adjust layout\n",
    "plt.tight_layout()\n",
    "plt.show()"
   ]
  },
  {
   "cell_type": "markdown",
   "metadata": {},
   "source": [
    "> ### 5-3-2-10. Conclusion\n",
    "> In normal data, as it's clear, Extra Trees Classifier had higher accuracy."
   ]
  }
 ],
 "metadata": {
  "kernelspec": {
   "display_name": "Python 3",
   "language": "python",
   "name": "python3"
  },
  "language_info": {
   "codemirror_mode": {
    "name": "ipython",
    "version": 3
   },
   "file_extension": ".py",
   "mimetype": "text/x-python",
   "name": "python",
   "nbconvert_exporter": "python",
   "pygments_lexer": "ipython3",
   "version": "3.12.0"
  }
 },
 "nbformat": 4,
 "nbformat_minor": 2
}
